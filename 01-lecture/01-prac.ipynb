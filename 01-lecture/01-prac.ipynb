{
 "cells": [
  {
   "cell_type": "markdown",
   "metadata": {
    "slideshow": {
     "slide_type": "slide"
    }
   },
   "source": [
    "# Вычислительная математика\n",
    "\n",
    "Семинар 2.\n",
    "\n",
    "* Векторные и матричные нормы"
   ]
  },
  {
   "cell_type": "markdown",
   "metadata": {
    "slideshow": {
     "slide_type": "slide"
    }
   },
   "source": [
    "## Норма\n",
    "\n",
    "* Пусть $V$ - вещественное или комплексное векторное пространство, $f(x)$ - неотрицательная функция, определенная на элементах $x \\in V$. Функция называется нормой, если она обладает следующими свойствами:\n",
    "\n",
    "    1. $f(x) \\ge 0 \\; \\forall x \\in V$; $f(x) = 0 \\Leftrightarrow x = 0$;\n",
    "    2. $f(\\alpha x) = |\\alpha|f(x)$, $\\forall \\alpha \\in \\mathbb{R}$ ( или $\\mathbb{C})$\n",
    "    3. $f(x+y) \\le f(x) + f(y)$ (неравенство треугольника)\n",
    "    \n",
    "$\\forall p \\ge 1$ функция\n",
    "\n",
    "$\\displaystyle ||x||_p = \\left(\\sum_{i=1}^{n} |x_i|^p \\right)^{1/p}$\n",
    "\n",
    "является нормой и называется \"$p$-норма вектора\". К $p$-нормам относят также \n",
    "$\\displaystyle ||x||_\\infty = \\lim_{p \\to \\infty} ||x||_p = \\max_i|x_i| $\n",
    "<center> <img src=\"L^p unit balls.png\" width=\"600\"/></center>"
   ]
  },
  {
   "cell_type": "markdown",
   "metadata": {
    "slideshow": {
     "slide_type": "slide"
    }
   },
   "source": [
    "## Матричные нормы\n",
    "\n",
    "**Определение** $||A||$ называется матричной нормой, если:\n",
    "\n",
    "1. на векторном пространстве матриц одинакового размера $||A||$ является векторной нормой\n",
    "2. для любых матриц $A$ и $B$ допускающих умножение выполняется: $\\displaystyle ||AB|| \\le ||A|| \\;||B||$ (мультипликативность)\n",
    "\n",
    "* Пример матричной нормы - *норма Фробениуса*: \n",
    "\n",
    "$\\displaystyle ||A||_F = \\left(\\sum_{i=1}^m \\sum_{j=1}^n |a_{ij}|^2\\right)^{1/2}$\n",
    "\n",
    "**Задача: докажите, что $||\\cdot||$ является матричной нормой.**"
   ]
  },
  {
   "cell_type": "markdown",
   "metadata": {
    "slideshow": {
     "slide_type": "slide"
    }
   },
   "source": [
    "## Операторные нормы\n",
    "\n",
    "Пусть $P$ действует из $X$ в $Y$ (нормированные пространства). Тогда \n",
    "\n",
    "$\\displaystyle||P|| = \\sup_{x \\ne 0} \\frac{||Px||_Y}{||x||_X}$\n",
    "\n",
    "* **Задача: выведите формулы для вычисления $||A||_1$ и $||A||_\\infty$ по элементам $A$.**  \n",
    "* **Задача: докажите, что $||A^T A||_1 \\le ||A||_1 \\; ||A||_2$**\n"
   ]
  },
  {
   "cell_type": "code",
   "execution_count": 3,
   "metadata": {
    "slideshow": {
     "slide_type": "slide"
    }
   },
   "outputs": [
    {
     "name": "stdout",
     "output_type": "stream",
     "text": [
      "type(a1[0]) =  <class 'numpy.int32'>\n",
      "type(a2[0]) =  <class 'numpy.float64'>\n",
      "type(a3[0]) =  <class 'numpy.float64'>\n",
      "A = \n",
      " [[0.48879068 0.49450459 0.54595461]\n",
      " [0.48771999 0.18742332 0.8121322 ]\n",
      " [0.69148248 0.3540396  0.33218562]]\n",
      "x - y =  [-2.22044605e-16  0.00000000e+00  2.22044605e-16]\n",
      "l =  [ 1.4633914 +0.        j -0.22749589+0.15521354j -0.22749589-0.15521354j]\n",
      "||A||_1 =  1.6902724319831557\n",
      "[[0.48879068 0.         0.        ]\n",
      " [0.         0.18742332 0.        ]\n",
      " [0.         0.         0.33218562]]\n"
     ]
    }
   ],
   "source": [
    "%matplotlib inline \n",
    "import numpy as np\n",
    "\n",
    "n = 10\n",
    "a1 = np.array([0,1,2,3]) # так можно создать массив по списку\n",
    "print('type(a1[0]) = ', type(a1[0])) # Обратите внимание на тип\n",
    "a2 = np.array([0.0,1,2,3]) # Один из элементов - float\n",
    "print('type(a2[0]) = ', type(a2[0])) # Обратите внимание на тип\n",
    "\n",
    "a3 = np.zeros((10)) # np.zeros() и np.ones() по умолчанию имеют тип float64\n",
    "print('type(a3[0]) = ', type(a3[0])) # Обратите внимание на тип\n",
    "\n",
    "A = np.zeros((3,3)) # Так можно создать 2D массив из нулей\n",
    "A = np.random.rand(3,3)\n",
    "print('A = \\n', A)\n",
    "\n",
    "x = np.ones(3)\n",
    "b = A @ x # @ - матрично-векторное умножение\n",
    "b = np.dot(A,x) # это работает для массивов любой размерности\n",
    "y = np.linalg.solve(A,b) # решаем линейную систему\n",
    "print('x - y = ', x-y)\n",
    "\n",
    "l = np.linalg.eigvals(A) # Вычисляются собственные числа\n",
    "print('l = ', l)\n",
    "A_1 = np.linalg.norm(A,1)\n",
    "print('||A||_1 = ', A_1)\n",
    "# ?np.linalg.solve # так можно вывести документацию для функции\n",
    "D = np.diag(np.diag(A)) # Так можно взять диагональную часть A\n",
    "print(D)\n",
    "Ainv = np.linalg.inv(A) # Обратная матрица\n",
    "AT = A.T # Транспонирование"
   ]
  },
  {
   "cell_type": "markdown",
   "metadata": {
    "slideshow": {
     "slide_type": "slide"
    }
   },
   "source": [
    "## Задания\n",
    "\n",
    "* Попробуйте создать матрицы (2d массивы) различными способами: по списку списков, заполняя в цикле значениями, случайным образом.\n",
    "* Вычислите и напечатайте нормы 1,2 и $\\infty$ для этих матриц\n",
    "* Вычислите и напечатайте максимальный модуль собственного числа. Как он соотносится с нормами матриц? Докажите, что так будет всегда"
   ]
  },
  {
   "cell_type": "code",
   "execution_count": null,
   "metadata": {
    "slideshow": {
     "slide_type": "skip"
    }
   },
   "outputs": [],
   "source": [
    "# Ваш код здесь:"
   ]
  },
  {
   "cell_type": "markdown",
   "metadata": {
    "slideshow": {
     "slide_type": "slide"
    }
   },
   "source": [
    "## Простейший итерационный метод \n",
    "\n",
    "* $Ax = b$\n",
    "* Разобьем матрицу $A$ на 2 матрицы   \n",
    "    $A = M - N$"
   ]
  },
  {
   "cell_type": "markdown",
   "metadata": {
    "slideshow": {
     "slide_type": "fragment"
    }
   },
   "source": [
    "* $M x = N x + b \\Rightarrow x = M^{-1} (N x + b)$  \n",
    "$M$ должна быть обратимой"
   ]
  },
  {
   "cell_type": "markdown",
   "metadata": {
    "slideshow": {
     "slide_type": "fragment"
    }
   },
   "source": [
    "* $x^{(k+1)} = M^{-1} (N x^{(k)} + b)$"
   ]
  },
  {
   "cell_type": "markdown",
   "metadata": {
    "slideshow": {
     "slide_type": "fragment"
    }
   },
   "source": [
    "* как будет меняться ошибка $e_k = x_k -x$ от итерации к итерации? (на доске)"
   ]
  },
  {
   "cell_type": "markdown",
   "metadata": {
    "slideshow": {
     "slide_type": "slide"
    }
   },
   "source": [
    "## Метод Якоби\n",
    "\n",
    "* Чтобы получить выигрыш, нужно чтобы решение системы с матрицей $M$ было быстрым\n",
    "* Линейная система с какой матрицей решается за $\\mathcal{O}(n)$ операций?"
   ]
  },
  {
   "cell_type": "markdown",
   "metadata": {
    "slideshow": {
     "slide_type": "fragment"
    }
   },
   "source": [
    "* В методе Якоби матрица $M = D$ - диагональная часть матрицы $A$\n",
    "* При каком условии $||D^{-1} N||_{1,\\infty} < 1$? (на доске)"
   ]
  },
  {
   "cell_type": "markdown",
   "metadata": {
    "slideshow": {
     "slide_type": "slide"
    }
   },
   "source": [
    "## Задание\n",
    "\n",
    "1. Реализуйте какой-либо способ создания случайной матрицы со свойством $||D^{-1} N||_1 < 1$\n",
    "2. Реализуйте итерационный метод $x^{(k+1)} = D^{-1} (N x^{(k)} + b)$\n",
    "3. Постройте график зависимости логарифма нормы ошибки $e^{(k)} = x_k - x$ от числа итераций. График можно построить с помощью функции matplotlib.pyplot.semilogy(error_array)"
   ]
  },
  {
   "cell_type": "code",
   "execution_count": 4,
   "metadata": {
    "slideshow": {
     "slide_type": "slide"
    }
   },
   "outputs": [
    {
     "name": "stdout",
     "output_type": "stream",
     "text": [
      "time =  0.020000934600830078\n"
     ]
    }
   ],
   "source": [
    "# Так можно измерить время\n",
    "import time\n",
    "\n",
    "start = time.time()\n",
    "a = 0\n",
    "for i in range(10**5):\n",
    "    a += 1/(i+1)\n",
    "end = time.time()\n",
    "print('time = ', end - start)"
   ]
  },
  {
   "cell_type": "code",
   "execution_count": 11,
   "metadata": {
    "slideshow": {
     "slide_type": "slide"
    }
   },
   "outputs": [
    {
     "name": "stdout",
     "output_type": "stream",
     "text": [
      "Wall time: 26 ms\n"
     ]
    }
   ],
   "source": [
    "%%time \n",
    "# Так тоже можно измерить время исполнения данной ячейки\n",
    "a = 0\n",
    "for i in range(10**5):\n",
    "    a += 1/(i+1)\n",
    "end = time.time()"
   ]
  },
  {
   "cell_type": "markdown",
   "metadata": {
    "slideshow": {
     "slide_type": "slide"
    }
   },
   "source": [
    "## Некоторые классы матриц\n",
    "* Унитарные\n",
    "* Эрмитовы\n",
    "* Нормальные\n",
    "* Знакоопределенные\n",
    "\n",
    "\n",
    "1. Пусть $A$ - эрмитова, $A >0$. Докажите, что при достаточно малых $\\alpha$ матрица $B = I -\\alpha A$ будет сходящейся (т.е. $\\rho(B) = \\max_k \\lambda_k(B) < 1$)."
   ]
  },
  {
   "cell_type": "markdown",
   "metadata": {
    "slideshow": {
     "slide_type": "slide"
    }
   },
   "source": [
    "## Сингулярное разложение (SVD)\n",
    "0. Докажите, что $\\Vert A\\Vert_2 = \\sigma_1$ (максимальное сингулярное число)\n",
    "1. Как получить $ker(A)$, $image(A)$ через SVD? \n",
    "2. Обратная матрица через SVD\n",
    "## Обусловленность\n",
    "3. Обусловленность линейной системы при разных правых частях\n",
    "4. Как обусловленность связана с $det(A)$?"
   ]
  },
  {
   "cell_type": "markdown",
   "metadata": {
    "slideshow": {
     "slide_type": "slide"
    }
   },
   "source": [
    "## SVD и малоранговые приближения\n",
    "\n",
    "Наилучшее приближение матрицы матрицей малого ранга вычисляется через SVD: \n",
    "\n",
    "**Теорема(Эккарта-Янга)** Пусть $r < \\text{rank}(A)$, $A_r = U_r \\Sigma_r V_r^*$. Тогда\n",
    "\n",
    "$$\n",
    "    \\min_{\\text{rank}(B)=r} \\|A - B\\|_2 = \\|A - A_r\\|_2 = \\sigma_{r+1}.\n",
    "$$\n",
    "\n",
    "Для фробениусовой нормы:$\\|A - A_r\\|_F = \\sqrt{\\sigma_{r+1}^2 + \\dots + \\sigma_{\\min (n,m)}^2}$."
   ]
  },
  {
   "cell_type": "code",
   "execution_count": 25,
   "metadata": {
    "slideshow": {
     "slide_type": "slide"
    }
   },
   "outputs": [
    {
     "name": "stdout",
     "output_type": "stream",
     "text": [
      "Shapes: (6, 6) (3,) (3, 3)\n",
      "[[0.  0.5 1. ]\n",
      " [0.  0.5 1. ]\n",
      " [0.  0.5 1. ]\n",
      " [0.  0.5 1. ]\n",
      " [0.  0.5 1. ]\n",
      " [0.  0.5 1. ]]\n",
      "[[0.  0.  0. ]\n",
      " [0.2 0.2 0.2]\n",
      " [0.4 0.4 0.4]\n",
      " [0.6 0.6 0.6]\n",
      " [0.8 0.8 0.8]\n",
      " [1.  1.  1. ]]\n"
     ]
    }
   ],
   "source": [
    "%matplotlib inline\n",
    "import numpy as np\n",
    "from matplotlib import pyplot as plt\n",
    "\n",
    "A = np.random.rand(6,3)\n",
    "u, s, v = np.linalg.svd(A) # Так вычисляется SVD, V - это V^* в наших обозначениях\n",
    "print('Shapes:', u.shape, s.shape, v.shape) # s - не матрица, а вектор!\n",
    "# Так можно построить декартову сетку:\n",
    "tx = np.linspace(0, 1, 3) # Узлы по x\n",
    "ty = np.linspace(0, 1, 6) # узлы по y\n",
    "X, Y = np.meshgrid(tx, ty) # X,Y - 2D массивы\n",
    "print(X)\n",
    "print(Y)\n",
    "f = np.sin(X**2 + Y**2) # Массив значений функции на сетке\n",
    "\n"
   ]
  },
  {
   "cell_type": "markdown",
   "metadata": {
    "slideshow": {
     "slide_type": "slide"
    }
   },
   "source": [
    "## SVD и малоранговые приближения\n",
    "\n",
    "Задача: вычислить приближенно интеграл от функции $f(x,y)$ по прямоугольнику $[x_l,x_r]\\times[y_l,y_r]$ с помощью SVD\n",
    "1. Интеграл примерно равен $\\sum_{i,j} f(x_i,y_j) dx dy$, где  $(x_i,x_j)$ - центры прямоугольников со сторонами $dx,dy$, на которые разбита область\n",
    "\n",
    "2. Создайте 2D массив (матрицу), заполненную значениями функции в этих точках\n",
    "\n",
    "3. \"Обрежьте\" матрицу до $\\hat{A}$ с помощью SVD до заданной точности $tol \\approx 10^{-3}$  или до заданного ранга $r$\n",
    "\n",
    "4. Найдите интеграл как сумму $dx dy\\sum_{i,j} \\hat{A}(i,j)$, не вычисляя элементы матрицы $\\hat{A}$, а используя SVD\n",
    "\n",
    "5. Придумайте функцию, для которой интеграл можно вычислить аналитически, постройте график зависимости ошибки в значении интеграла от ранга $r$ приближенной матрицы"
   ]
  }
 ],
 "metadata": {
  "anaconda-cloud": {},
  "celltoolbar": "Slideshow",
  "kernelspec": {
   "display_name": "Python 3",
   "language": "python",
   "name": "python3"
  },
  "language_info": {
   "codemirror_mode": {
    "name": "ipython",
    "version": 3
   },
   "file_extension": ".py",
   "mimetype": "text/x-python",
   "name": "python",
   "nbconvert_exporter": "python",
   "pygments_lexer": "ipython3",
   "version": "3.6.4"
  },
  "livereveal": {
   "start_slideshow_at": "selected",
   "theme": "white",
   "transition": "zoom"
  }
 },
 "nbformat": 4,
 "nbformat_minor": 2
}
