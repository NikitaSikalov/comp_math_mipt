{
 "cells": [
  {
   "cell_type": "markdown",
   "metadata": {
    "slideshow": {
     "slide_type": "slide"
    }
   },
   "source": [
    "# Вычислительная математика\n",
    "## Численное интегрирование"
   ]
  },
  {
   "cell_type": "markdown",
   "metadata": {
    "slideshow": {
     "slide_type": "slide"
    }
   },
   "source": [
    "## Задача численного интегрирования\n",
    "Дана процедура вычисления значений $f(x)$. Найти приближенное значение определенного интеграла\n",
    "$$\n",
    "S(f) \\approx I(f) = \\int_a^b f(x) dx\n",
    "$$"
   ]
  },
  {
   "cell_type": "markdown",
   "metadata": {
    "slideshow": {
     "slide_type": "fragment"
    }
   },
   "source": [
    "Основная идея:\n",
    "* Приблизить $f$ *простой* функцией $\\phi$, а функцию $\\phi$ проинтегрировать аналитически"
   ]
  },
  {
   "cell_type": "markdown",
   "metadata": {
    "slideshow": {
     "slide_type": "slide"
    }
   },
   "source": [
    "## Интерполяционные квадратурные формулы\n",
    "\n",
    "* Рассмотрим отрезок $[-1,1]$, отобразим его на $[a,b]$:\n",
    "$$\n",
    "x = x(t) = \\frac{a+b}{2} + \\frac{b - a}{2} t\n",
    "$$\n",
    "Выберем различные узлы $t_1, \\ldots, t_n \\in [-1,1]$ и $x_i = x(t_i)$"
   ]
  },
  {
   "cell_type": "markdown",
   "metadata": {
    "slideshow": {
     "slide_type": "fragment"
    }
   },
   "source": [
    "* Построим интерполяционный многочлен:\n",
    "$$\n",
    "L_{n-1}(x) = \\sum_{i=1}^n \\prod_{j=1, \\; j\\ne i}^n f(x_i) \\frac{x -x_j}{x_i - x_j}\n",
    "$$"
   ]
  },
  {
   "cell_type": "markdown",
   "metadata": {
    "slideshow": {
     "slide_type": "fragment"
    }
   },
   "source": [
    "* Проинтегрируем по $[a,b]$\n",
    "$$\n",
    "S(f) = \\int_a^b L_{n-1} (x) \\, dx = \\sum_{i=1}^n d_i \\, f(x_i), \\quad d_i = \\frac{b-a}{2} \\int_{-1}^1 \\prod_{j=1,\\;j\\ne i}^n \\frac{t - t_j}{t_i - t_j} \\, dt\n",
    "$$\n",
    "* Формулы, полученные путем интегрирования интерполяционного многочлена называют формулами *Ньютона-Котеса*."
   ]
  },
  {
   "cell_type": "markdown",
   "metadata": {
    "slideshow": {
     "slide_type": "slide"
    }
   },
   "source": [
    "## Интерполяционные формулы, оценка ошибки\n",
    "\n",
    "Если $f \\in C^n[a,b]$, то из формулы для ошибки интерполяции получаем:\n",
    "$$\n",
    "\\lvert I(f) - S(f) \\rvert \\le \\frac{\\lVert f^{(n)}\\rVert_{C[a,b]}}{n!} \\left( \\frac{b-a}{2} \\right)^{n+1} \\int_{-1}^{+1} \\bigg| \\prod_{j=1}^n (t -t_j)\\bigg| \\, dt\n",
    "$$"
   ]
  },
  {
   "cell_type": "markdown",
   "metadata": {
    "slideshow": {
     "slide_type": "fragment"
    }
   },
   "source": [
    "### Алгебраическая точность\n",
    "* $S(f)$ имеет алгебраическую точность $m$, если она точна для многочленов степени $\\le m$.  \n",
    "* **Теорема:** Квадратурная формула $S$ с $n$ узлами имеет алгебраическую точность $m \\ge n-1$ $\\Leftrightarrow$ она является интерполяционной квадратурной формулой."
   ]
  },
  {
   "cell_type": "markdown",
   "metadata": {
    "slideshow": {
     "slide_type": "fragment"
    }
   },
   "source": [
    "* $\\Leftarrow$ По построению\n",
    "* $\\Rightarrow$ Подставим вместо $f$ многочлены Лагранжа $l_i(x)$, для которых формула точна."
   ]
  },
  {
   "cell_type": "markdown",
   "metadata": {
    "slideshow": {
     "slide_type": "slide"
    }
   },
   "source": [
    "## Примеры квадратурных формул\n",
    "\n",
    "1) *Формула прямоугольников с центральной точкой*: $S(f) = f(\\frac{a+b}{2}) h$,  ($h = b - a$)  \n",
    "Интерполяция 0-го порядка. Оценка ошибки для $f \\in C^1$: $\\lvert I(f) - S(f)\\rvert \\le \\frac{1}{4}M_1 h^2$.  \n",
    "Ту же формулу можно получить из линейной интерполяции Эрмита для кратного узла $t_1 = t_2 = 0$: $H(t) = f(0) + f'(0) t$. Следовательно, можно улучшить оценку погрешности для $f \\in C^2$:\n",
    "$$\n",
    "\\lvert I(f) - S(f) \\rvert \\le \\frac{1}{24} M_2 h^3\n",
    "$$\n",
    "\n"
   ]
  },
  {
   "cell_type": "markdown",
   "metadata": {
    "slideshow": {
     "slide_type": "fragment"
    }
   },
   "source": [
    "2) *Формула трапеций*: $S(f) = \\frac{1}{2} (f(a) + f(b)) h$. Для $f \\in C^2$\n",
    "$$\n",
    "\\lvert I(f) - S(f)\\rvert \\le \\frac{1}{12} M_2 h^3\n",
    "$$"
   ]
  },
  {
   "cell_type": "markdown",
   "metadata": {
    "slideshow": {
     "slide_type": "fragment"
    }
   },
   "source": [
    "3) *Формула Симпсона*: обычная интерполяция по 3-м точкам $-1,0,+1$ и эрмитова интерполяция с кратным узлом $-1,0,0,+1$ дают один и тот же результат:\n",
    "$$\n",
    "S(f) = \\frac{h}{6} \\left(f(a) + f(\\frac{a+b}{2}) + f(b)\\right)\n",
    "$$"
   ]
  },
  {
   "cell_type": "markdown",
   "metadata": {
    "slideshow": {
     "slide_type": "slide"
    }
   },
   "source": [
    "## Составные квадратурные формулы\n"
   ]
  },
  {
   "cell_type": "code",
   "execution_count": null,
   "metadata": {},
   "outputs": [],
   "source": []
  }
 ],
 "metadata": {
  "anaconda-cloud": {},
  "celltoolbar": "Slideshow",
  "kernelspec": {
   "display_name": "Python 3",
   "language": "python",
   "name": "python3"
  },
  "language_info": {
   "codemirror_mode": {
    "name": "ipython",
    "version": 3
   },
   "file_extension": ".py",
   "mimetype": "text/x-python",
   "name": "python",
   "nbconvert_exporter": "python",
   "pygments_lexer": "ipython3",
   "version": "3.6.4"
  },
  "livereveal": {
   "start_slideshow_at": "selected",
   "theme": "white",
   "transition": "zoom"
  }
 },
 "nbformat": 4,
 "nbformat_minor": 2
}
