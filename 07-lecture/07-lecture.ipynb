{
 "cells": [
  {
   "cell_type": "code",
   "execution_count": 3,
   "metadata": {},
   "outputs": [],
   "source": [
    "%matplotlib inline \n",
    "import matplotlib\n",
    "from matplotlib import pyplot as plt\n",
    "import numpy as np\n",
    "matplotlib.rcParams.update({'font.size': 22})"
   ]
  },
  {
   "cell_type": "markdown",
   "metadata": {
    "slideshow": {
     "slide_type": "slide"
    }
   },
   "source": [
    "# Вычислительная математека\n",
    "\n",
    "## Методы приближения функций, основанные на минимизации нормы"
   ]
  },
  {
   "cell_type": "markdown",
   "metadata": {
    "slideshow": {
     "slide_type": "slide"
    }
   },
   "source": [
    "## Два подхода к приближению\n",
    "\n",
    "1. Интерполяция: $\\phi(x_k) = f(x_k)$\n",
    "2. Минимизация нормы $\\Vert \\phi - f \\Vert \\to \\min$\n",
    "    * Равномерное приближение $\\displaystyle \\Vert f \\Vert = \\sup_x \\lvert f(x) \\rvert$\n",
    "    * Приближение в гильбертовом пространстве $\\Vert f \\Vert = (f,f)^{1/2}$, например \n",
    "    $$\n",
    "    \\Vert f \\Vert = \\left(\\int_a^b \\lvert f(x) \\rvert^2 \\; dx\\right)^{1/2}\n",
    "    $$"
   ]
  },
  {
   "cell_type": "markdown",
   "metadata": {},
   "source": [
    "## Равномерные приближения \n",
    "$R(x) = f(x) - p_n(x)$  \n",
    "**Теорема:** Полином $p_n$ является полиномом наилучшего равномерного приближения для $f \\in C[a,b]$ $\\Leftrightarrow$ есть по крайней мере $n+2$ *точек альтернанса* $x_1, \\ldots, x_{n+2}$:\n",
    "1. $\\lvert R(x_i) \\rvert = \\Vert R \\Vert_{C[a,b]}, \\; i=1,\\ldots,n+2$ \n",
    "2. $R(x_i) R(x_{i+1}) < 0, \\; i = 1, \\ldots, n+1$\n",
    "\n",
    "    "
   ]
  },
  {
   "cell_type": "markdown",
   "metadata": {
    "slideshow": {
     "slide_type": "slide"
    }
   },
   "source": [
    "## Полиномы, наименее уклоняющиеся от нуля\n",
    "\n",
    "1. Полином $q_n = x^n + a_{n-1} x^{n-1} + \\ldots + a_0$ называется наименее уклоняющимся от нуля на $[a,b]$, если он имеет наименьшую норму $C[a,b]$ среди всех многочленов такого вида\n",
    "2. Согласно определению \n",
    "$$\n",
    "\\Vert q_n(x) \\Vert_{C[a,b]} \\le \\Vert x^n - p_{n-1}(x) \\Vert_{C[a,b]} \n",
    "$$\n",
    "для любого $p_{n-1}$.  \n",
    "Следовательно, разность $x^n - q_n(x)$ - наилучшее равномерное приближение к функции $x^n$ среди всех полиномов степени $\\le n-1$\n"
   ]
  },
  {
   "cell_type": "markdown",
   "metadata": {
    "slideshow": {
     "slide_type": "slide"
    }
   },
   "source": [
    "## Полиномы, наименее уклоняющиеся от нуля\n",
    "\n",
    "3. Многочлен $\\frac{1}{2^{n-1}} T_n(x)$ имеет $n+1$ точку альтернанса на $[-1,1]$, следовательно $x^n -2^{1-n} T_n(x)$ имеет степень $\\le n-1$ и является наилучшим приближением к $x^n$ на $[-1,1]$\n",
    "4. На произвольном отрезке $[a,b]$ с помощью замены \n",
    "$$\n",
    "\\begin{align}\n",
    "& x = \\frac{a+b}{2} + t \\frac{b-a}{2} \\\\\n",
    "& t = \\frac{2x - a - b}{b - a}\n",
    "\\end{align}\n",
    "$$\n",
    "Получаем многочлен \n",
    "$$ \n",
    "Q_n(x) = 2^{1-2n} (b-a)^n T_n\\left(\\frac{2x - a - b}{b - a}\\right)\n",
    "$$"
   ]
  },
  {
   "cell_type": "markdown",
   "metadata": {
    "slideshow": {
     "slide_type": "slide"
    }
   },
   "source": [
    "## Интерполяция и равномерные приближения\n",
    "\n",
    "* Насколько наилучшее приближение лучше интерполяционного многочлена?  "
   ]
  },
  {
   "cell_type": "markdown",
   "metadata": {
    "slideshow": {
     "slide_type": "fragment"
    }
   },
   "source": [
    "* Следующая теорема верна для любых проекторов, в том числе для интерполяции:  \n",
    "**Теорема:** Пусть $f \\in C[-1,1]$, $\\displaystyle E_n(f) = \\min_{\\phi \\in \\mathcal{P}_n} \\Vert f - \\phi\\Vert_{C[-1,1]}$. Тогда, если $L_n$ - интерполяционный полином и $\\Vert P_n \\Vert$ - норма соответствующего оператора, то\n",
    "$$\n",
    "\\Vert f - L_n\\Vert_C \\le (1 + \\Vert P_n \\Vert )E_n(f)\n",
    "$$"
   ]
  },
  {
   "cell_type": "markdown",
   "metadata": {
    "slideshow": {
     "slide_type": "fragment"
    }
   },
   "source": [
    "**Доказательство:** $P_n \\phi_n = \\phi_n$\n",
    "$$\n",
    "\\Vert f - L_n \\Vert \\le \\Vert f - \\phi_n \\Vert + \\Vert P_n \\phi_n - P_n f\\Vert = E_n(f) + \\Vert P_n (\\phi_n - f) \\Vert \\le (1 + \\Vert P_n \\Vert)E_n(f)\n",
    "$$\n",
    "В частности для чебышевских сеток: \n",
    "$$\n",
    "\\Vert f - L_n \\Vert (1 + c \\ln n) E_n(f)\n",
    "$$"
   ]
  },
  {
   "cell_type": "markdown",
   "metadata": {
    "slideshow": {
     "slide_type": "slide"
    }
   },
   "source": [
    "## Алгоритм Ремеза\n",
    "\n",
    "Итерационный алгоритм вычисления полинома наилучшего приближения основан на свойстве альтернанса:\n",
    "\n",
    "Возьмем $n+2$ точки $x_1, \\ldots, x_{n+2}$  \n",
    "Далее\n",
    "1. Решаем линейную систему:\n",
    "$$\n",
    "c_0 + c_1 x_i + \\ldots c_n x_i^n + (-1)^i E = f(x_i), \\; i = 1,2,\\ldots, n+2 \\\\\n",
    "$$\n",
    "относительно неизвестных $c_0,\\ldots, c_n, E$.\n",
    "2. Находим точки локального максимума ошибки $\\lvert f(x) - p_n \\rvert$, $p_n = c_0 + c_1 x + \\ldots + c_n x^n$.  \n",
    "Если условие альтернанса выполнено с заданной точностью - останавливаемся, иначе\n",
    "3. Заменяем часть точек на точки локального максимума, так чтобы знак $f - p_n$ чередовался. Переходим к (1)"
   ]
  },
  {
   "cell_type": "markdown",
   "metadata": {
    "slideshow": {
     "slide_type": "slide"
    }
   },
   "source": [
    "## Приближение в $L_2$\n",
    "\n",
    "* Для любого вектора $f$ в гильбертовом пространстве и любого замкнутого подпространства $\\Phi$ существует единственное разложение:\n",
    "$$\n",
    "f = u + \\phi, \\; \\phi \\in \\Phi, \\; u \\perp \\Phi\n",
    "$$"
   ]
  },
  {
   "cell_type": "markdown",
   "metadata": {
    "slideshow": {
     "slide_type": "slide"
    }
   },
   "source": [
    "* Пусть $\\Phi = \\mbox{span}\\{v_1, \\ldots, v_n\\}$. Тогда коэффициенты разложения $\\phi = c_1 v_1 + \\ldots + c_n v_n$ удовлетворяют системе с матрицей Грамма:\n",
    "$$\n",
    "\\left[\\begin{array}{ccc}\n",
    "(v_1,v_1) & \\ldots & (v_n,v_1) \\\\\n",
    "\\ldots & \\ldots & \\ldots \\\\\n",
    "(v_1, v_n) & \\ldots & (v_n, v_n)\n",
    "\\end{array}\\right]\n",
    "\\left[\\begin{array}{c}\n",
    "c_1 \\\\\n",
    "\\vdots \\\\\n",
    "c_n\n",
    "\\end{array}\\right] = \n",
    "\\left[\\begin{array}{c}\n",
    "(v_1,f) \\\\\n",
    "\\vdots \\\\\n",
    "(v_n,f)\n",
    "\\end{array}\\right]\n",
    "$$\n",
    "где $(f,g) = \\int_a^b f(x) g(x) \\, dx$"
   ]
  },
  {
   "cell_type": "markdown",
   "metadata": {
    "slideshow": {
     "slide_type": "slide"
    }
   },
   "source": [
    "## Ортогональные многочлены\n",
    "\n",
    "* Можно ввести скалярное произведение для любой неотрицательной функции с положительным интегралом $\\omega$:\n",
    "$$\n",
    "(f,g) = \\int_a^b f(x) g(x) \\omega(x) \\, dx\n",
    "$$\n",
    "* Если ортогонализовать многочлены $1, x, \\ldots, x^n$, получим систему *ортогональных многочленов* $(L_i, L_j) = \\delta_{ij}$"
   ]
  },
  {
   "cell_type": "markdown",
   "metadata": {
    "slideshow": {
     "slide_type": "fragment"
    }
   },
   "source": [
    "* Для любых ортогональных многочленов верно трехчленное реккурентное соотношение:\n",
    "$$\n",
    "x L_n(x) = \\beta_{n-1} L_{n-1}(x) + \\alpha_n L_n(x) + \\beta_n L_{n+1}(x), \\; n = 0, 1, \\ldots\n",
    "$$"
   ]
  },
  {
   "cell_type": "markdown",
   "metadata": {
    "slideshow": {
     "slide_type": "slide"
    }
   },
   "source": [
    "**Доказательство:** \n",
    "* многочлен $x L_n$ степени $n+1$ можно разложить по многочленам $L_0, \\ldots, L_{n+1}$:\n",
    "$$\n",
    "x L_n(x) = s_{n0} L_0(x) + \\ldots + s_{nn} L_n(x) + s_{n n+1} L_{n+1}(x)\n",
    "$$"
   ]
  },
  {
   "cell_type": "markdown",
   "metadata": {
    "slideshow": {
     "slide_type": "fragment"
    }
   },
   "source": [
    "* $s_{nj} = (xL_n, L_j) = (L_n, x L_j) = 0, \\mbox{ при } j \\le n - 2$"
   ]
  },
  {
   "cell_type": "markdown",
   "metadata": {
    "slideshow": {
     "slide_type": "fragment"
    }
   },
   "source": [
    "* Обозначим $\\alpha_n = s_{nn}, \\beta_n = s_{n,n+1} = (x L_n, L_{n+1})$. $s_{n,n-1} = (x L_n, L_{n-1} ) = (x L_{n-1}, L_n) = \\beta_{n-1}$"
   ]
  },
  {
   "cell_type": "markdown",
   "metadata": {
    "slideshow": {
     "slide_type": "slide"
    }
   },
   "source": [
    "## Пример\n",
    "Для системы степеней матрица Грамма имеет элементы\n",
    "\\begin{align}\n",
    "G_{ij} = (e_i,e_j) = \\int_{0}^1 x^{i+j-2} \\, dx = \\left.\\frac{x^{i+j-1}}{i+j-1}\\right\\vert_0^1 = \\frac{1}{i+j-1}\n",
    "\\end{align}"
   ]
  },
  {
   "cell_type": "code",
   "execution_count": 4,
   "metadata": {
    "slideshow": {
     "slide_type": "fragment"
    }
   },
   "outputs": [
    {
     "data": {
      "text/plain": [
       "<matplotlib.legend.Legend at 0x93b2630>"
      ]
     },
     "execution_count": 4,
     "metadata": {},
     "output_type": "execute_result"
    },
    {
     "data": {
      "image/png": "[encoded data removed]",
      "text/plain": [
       "<matplotlib.figure.Figure at 0x910a940>"
      ]
     },
     "metadata": {},
     "output_type": "display_data"
    }
   ],
   "source": [
    "n = 4\n",
    "p = 10\n",
    "G = np.zeros((n,n))\n",
    "b = np.zeros((n,1))\n",
    "for i in range(1,n+1):\n",
    "    b[i-1] = 2/(p+i) - 1/(i+2)\n",
    "    for j in range(1,n+1):\n",
    "        G[i-1,j-1] = 1/(i+j-1)\n",
    "c1 = np.linalg.solve(G,b) #  Solve linear system\n",
    "x = np.linspace(0,1,100)\n",
    "fig, ax = plt.subplots(figsize = (20,10))\n",
    "ax.plot(x, 2 * x**p - x**2,'k-', label = '$2x^{10} -x^2$')\n",
    "M = np.zeros((x.size, n))\n",
    "for j in range(n):\n",
    "    M[:,j] = x ** j\n",
    "y = np.dot(M, c1)\n",
    "ax.plot(x, y, 'r-', label = '$L_2$ approximation in $P_4$')\n",
    "ax.legend()"
   ]
  },
  {
   "cell_type": "code",
   "execution_count": null,
   "metadata": {},
   "outputs": [],
   "source": []
  }
 ],
 "metadata": {
  "anaconda-cloud": {},
  "celltoolbar": "Slideshow",
  "kernelspec": {
   "display_name": "Python 3",
   "language": "python",
   "name": "python3"
  },
  "language_info": {
   "codemirror_mode": {
    "name": "ipython",
    "version": 3
   },
   "file_extension": ".py",
   "mimetype": "text/x-python",
   "name": "python",
   "nbconvert_exporter": "python",
   "pygments_lexer": "ipython3",
   "version": "3.6.4"
  },
  "livereveal": {
   "start_slideshow_at": "selected",
   "theme": "white",
   "transition": "zoom"
  }
 },
 "nbformat": 4,
 "nbformat_minor": 2
}
