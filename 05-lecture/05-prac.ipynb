{
 "cells": [
  {
   "cell_type": "markdown",
   "metadata": {
    "slideshow": {
     "slide_type": "slide"
    }
   },
   "source": [
    "# Интерполяция многочленами\n",
    "\n",
    "Интерполяционный многочлен легко сконструировать: возьмем многочлены степени $n$ $l_0(x), \\ldots, l_n(x)$, удовлетворяющие следующим условиям:\n",
    "$$\n",
    "l_j(x_i) = \\left\\{\n",
    "\\begin{array} {l}\n",
    "1, \\, i=j \\\\\n",
    "0, \\, i \\ne j\n",
    "\\end{array}\n",
    "\\right. \n",
    "$$\n",
    "Тогда \n",
    "$$\n",
    "L_n(x) = \\sum_{j=0}^n f(x_j) l_j(x)\n",
    "$$\n",
    "\n",
    "Эти многочлены удобны тем, что легко получить общую формулу для них:\n",
    "$$\n",
    "l_j(x) = \\prod_{k = 0, \\, k \\ne j}^n \\frac{x - x_k}{x_j - x_k}\n",
    "$$\n",
    "Их называют *многочленами Лагранжа* или базовыми многочленами."
   ]
  },
  {
   "cell_type": "markdown",
   "metadata": {
    "slideshow": {
     "slide_type": "slide"
    }
   },
   "source": [
    "**Задача 1**  \n",
    "\n",
    "0. Напишите программу для вычисления многочленов Лагранжа в любой точке по узлам интерполяции $x_1,\\ldots, x_n$. Постройте графики нескольких многочленов на подробной сетке, символами покажите значения в точках интерполяции.\n",
    "\n",
    "2. Подсчитайте число операций для вычисления интерполяционного многочлена в точке, если используются формула \n",
    "$$\n",
    "L_n(x) = \\sum_{j=0}^n f(x_j) l_j(x)\n",
    "$$\n",
    "и ваша программа для многочленов Лагранжа."
   ]
  },
  {
   "cell_type": "markdown",
   "metadata": {
    "slideshow": {
     "slide_type": "slide"
    }
   },
   "source": [
    "**Задача 2**  \n",
    "Обозначим \n",
    "$$ \n",
    "w(x) = \\prod_{k = 0}^{n} (x-x_k)\n",
    "$$\n",
    "Докажите, что\n",
    "$$\n",
    "l_j(x) = \\frac{w(x)}{(x-x_j) w'(x_j)}\n",
    "$$"
   ]
  },
  {
   "cell_type": "markdown",
   "metadata": {
    "slideshow": {
     "slide_type": "slide"
    }
   },
   "source": [
    "**Задача 3**\n",
    "1. На основе предыдущей формулы придумайте алгоритм для вычисления интерполяционного многочлена в точке $x$ за $O(n)$ операций, где $n$ - число точек (при этом некоторые величины, не зависящие от $x$ могут вычисляться предварительно)\n",
    "\n",
    "2. Запрограммируйте этот способ, и постройте график интерполяционного многочлена вместе с графиком исходной функции и точками интерполяции.  \n",
    "(*Обратите внимание, что при $x = x_j$ может возникнуть деление на 0, поэтому может понадобиться соответствующая проверка*)\n"
   ]
  },
  {
   "cell_type": "markdown",
   "metadata": {
    "slideshow": {
     "slide_type": "slide"
    }
   },
   "source": [
    "## Погрешность интерполяции\n",
    "\n",
    "$$\n",
    "\\begin{align}\n",
    "f(x) - L_n(x) = \\frac{f^{(n+1)} \\left(\\xi(x)\\right) }{(n+1)!} \\omega(x), \\quad \\omega(x) = \\prod_{k=0}^n (x-x_k)\n",
    "\\end{align}\n",
    "$$\n",
    "$$f(x) - L_n(x) = f(x; x_0;\\ldots;x_n) \\omega(x), \\quad f(x_0;\\ldots;x_k) = \\sum_{j=0}^{k} \\frac{f(x_j)}{\\displaystyle \\prod_{\\substack{l=0 \\\\ l \\ne j}}^k (x_j - x_l)}$$\n",
    "**Задача 4:**  \n",
    "Функция $e^x$ интерполируется на отрезке $[0,1]$ многочленом 2-й степени на равномерной сетке. Оцените погрешность интерполяции.\n",
    "\n",
    "**Задача 5:**  \n",
    "Докажите, что на равномерной сетке норма многочлена $\\omega(x) = \\prod_{k=0}^{n} (x - x_k)$ растет как $n! ((b - a)/n)^{n+1}$\n",
    "\n"
   ]
  },
  {
   "cell_type": "markdown",
   "metadata": {
    "slideshow": {
     "slide_type": "slide"
    }
   },
   "source": [
    "**Задача 6:**  \n",
    "С помощью готовой реализации (код ниже) посчитайте ошибку интерполяции для функции $e^x$ многочленом 2-й степени на равномерной сетке. Сравните с теоретической оценкой.\n"
   ]
  },
  {
   "cell_type": "code",
   "execution_count": 27,
   "metadata": {
    "slideshow": {
     "slide_type": "slide"
    }
   },
   "outputs": [
    {
     "name": "stdout",
     "output_type": "stream",
     "text": [
      "1.0\n"
     ]
    },
    {
     "data": {
      "image/png": "[encoded data removed]",
      "text/plain": [
       "<matplotlib.figure.Figure at 0xadbfef0>"
      ]
     },
     "metadata": {},
     "output_type": "display_data"
    }
   ],
   "source": [
    "%matplotlib inline\n",
    "from scipy.interpolate import BarycentricInterpolator\n",
    "import numpy as np\n",
    "from matplotlib import pyplot as plt\n",
    "\n",
    "f = lambda x: np.sin(4*(x+1)**2) * np.exp(-x**2/0.25)\n",
    "n = 6\n",
    "xi = np.linspace(-1,1,n) # Узлы интерполяции\n",
    "yi = f(xi) # Значения в узлах\n",
    "lagrange = BarycentricInterpolator(xi,yi)\n",
    "x = np.linspace(-1,1,100)\n",
    "y = lagrange.__call__(x)\n",
    "\n",
    "plt.plot(x, f(x), 'k-', label = 'f')\n",
    "plt.plot(x,y, 'b-', label = r'$L_n$')\n",
    "plt.plot(xi, yi,'ro')\n",
    "plt.legend()\n",
    "\n",
    "xmax = np.amax(x) # Так можно найти максимальный элемент в массиве\n",
    "print(xmax)"
   ]
  },
  {
   "cell_type": "markdown",
   "metadata": {
    "slideshow": {
     "slide_type": "slide"
    }
   },
   "source": [
    "## Регуляризации\n",
    "\n",
    "Интерполяционный многочлен, может сильно \"колебаться\" между узлами интерполяции. Из-за этого точность приближения становится плохой. Вспомним решение задачи интерполяции через МНК:\n",
    "$$\n",
    "\\Vert Ac - y \\Vert_2 \\to \\min\n",
    "$$\n",
    "Мы подбираем коэффициенты многочлена так, что ошибка узлах была минимальной.   \n",
    "Идея регуляризации: добавим в функционал ошибки \"штраф\" за очень большие коэффициенты многочлена (большие по модулю коэффициенты и будут приводить к \"колебаниям\"):\n",
    "$$\n",
    "\\Vert Ac - y \\Vert_2^2 + \\alpha \\Vert c \\Vert_2^2 \\to \\min\n",
    "$$\n",
    "где $\\alpha > 0 $ - параметр регуляризации. \n",
    "\n",
    "**Задача 7:**  \n",
    "Выведите формулу для решения регуляризованной задачи, для этого приравняйте к нуле градиент функционала $(Ac - y, Ac - y) + \\alpha(c,c)$.\n",
    "\n",
    "**Задача 8:**  \n",
    "Запрограммируйте решение регуляризованной задачи. Постройте графики многочленов для $\\alpha = 10^0, 10^{-1}, 10^{-2}, 10^{-3}$ для функции Рунге $f(x) = \\frac{1}{25 x^2 + 1}$ на $[-1,1]$. Возьмите степень многочлена $n-1$, где $n$ число точек."
   ]
  },
  {
   "cell_type": "code",
   "execution_count": 31,
   "metadata": {
    "slideshow": {
     "slide_type": "slide"
    }
   },
   "outputs": [
    {
     "data": {
      "text/plain": [
       "[<matplotlib.lines.Line2D at 0xd70c630>]"
      ]
     },
     "execution_count": 31,
     "metadata": {},
     "output_type": "execute_result"
    },
    {
     "data": {
      "image/png": "[encoded data removed]",
      "text/plain": [
       "<matplotlib.figure.Figure at 0xd482e10>"
      ]
     },
     "metadata": {},
     "output_type": "display_data"
    }
   ],
   "source": [
    "## Решение задачи интерполяции с регуляризацией\n",
    "%matplotlib inline\n",
    "from scipy.interpolate import BarycentricInterpolator\n",
    "import numpy as np\n",
    "from matplotlib import pyplot as plt\n",
    "\n",
    "f = lambda x: 1/(25*x**2 + 1) # Попробуйте другие функции\n",
    "n = 6\n",
    "x = np.linspace(-1,1,n)\n",
    "y = f(x)\n",
    "A = np.vander(x, n, increasing = True)\n",
    "\n",
    "#\n",
    "# Ваш код здесь\n",
    "#\n",
    "\n",
    "#np.linalg.solve # решение линейной системы\n",
    "\n",
    "# Для построения графиков многочлена с коэффициентами c[:]\n",
    "# можно использовать следующий код\n",
    "c = np.arange(n)\n",
    "xx = np.linspace(-1,1,100)\n",
    "V_plot = np.vander(xx, n, increasing = True)\n",
    "yy = V_plot @ c # Значения многочлена в точках xx\n",
    "plt.plot(xx,yy,'b-')"
   ]
  }
 ],
 "metadata": {
  "anaconda-cloud": {},
  "celltoolbar": "Slideshow",
  "kernelspec": {
   "display_name": "Python 3",
   "language": "python",
   "name": "python3"
  },
  "language_info": {
   "codemirror_mode": {
    "name": "ipython",
    "version": 3
   },
   "file_extension": ".py",
   "mimetype": "text/x-python",
   "name": "python",
   "nbconvert_exporter": "python",
   "pygments_lexer": "ipython3",
   "version": "3.6.4"
  },
  "livereveal": {
   "start_slideshow_at": "selected",
   "theme": "white",
   "transition": "zoom"
  }
 },
 "nbformat": 4,
 "nbformat_minor": 2
}
