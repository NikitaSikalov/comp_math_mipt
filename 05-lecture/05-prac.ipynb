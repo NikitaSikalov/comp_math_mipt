{
 "cells": [
  {
   "cell_type": "markdown",
   "metadata": {
    "slideshow": {
     "slide_type": "slide"
    }
   },
   "source": [
    "## Интерполяция многочленами\n",
    "\n",
    "Интерполяционный многочлен легко сконструировать: возьмем многочлены степени $n$ $l_0(x), \\ldots, l_n(x)$, удовлетворяющие следующим условиям:\n",
    "$$\n",
    "l_j(x_i) = \\left\\{\n",
    "\\begin{array} {l}\n",
    "1, \\, i=j \\\\\n",
    "0, \\, i \\ne j\n",
    "\\end{array}\n",
    "\\right. \n",
    "$$\n",
    "Тогда \n",
    "$$\n",
    "L_n(x) = \\sum_{j=0}^n f(x_j) l_j(x)\n",
    "$$\n",
    "\n",
    "Эти многочлены удобны тем, что легко получить общую формулу для них:\n",
    "$$\n",
    "l_j(x) = \\prod_{k = 0, \\, k \\ne j}^n \\frac{x - x_k}{x_j - x_k}\n",
    "$$"
   ]
  },
  {
   "cell_type": "markdown",
   "metadata": {
    "slideshow": {
     "slide_type": "slide"
    }
   },
   "source": [
    "**Задача 1**  \n",
    "\n",
    "0. Напишите программу для вычисления многочленов Лагранжа в любой точке по узлам интерполяции $x_1,\\ldots, x_n$. Постройте графики нескольких многочленов на подробной сетке, символами покажите значения в точках интерполяции.\n",
    "\n",
    "2. Подсчитайте число операций для вычисления интерполяционного многочлена в точке, если используются формула \n",
    "$$\n",
    "L_n(x) = \\sum_{j=0}^n f(x_j) l_j(x)\n",
    "$$\n",
    "и ваша программа для многочленов Лагранжа."
   ]
  },
  {
   "cell_type": "markdown",
   "metadata": {
    "slideshow": {
     "slide_type": "slide"
    }
   },
   "source": [
    "**Задача 2**  \n",
    "Обозначим \n",
    "$$ \n",
    "w(x) = \\prod_{k = 0}^{n} (x-x_k)\n",
    "$$\n",
    "Докажите, что\n",
    "$$\n",
    "l_j(x) = \\frac{w(x)}{(x-x_j) w'(x_j)}\n",
    "$$"
   ]
  },
  {
   "cell_type": "markdown",
   "metadata": {
    "slideshow": {
     "slide_type": "slide"
    }
   },
   "source": [
    "**Задача 3**\n",
    "1. На основе предыдущей формулы придумайте алгоритм для вычисления интерполяционного многочлена в точке $x$ за $O(n)$ операций, где $n$ - число точек (при этом некоторые величины, не зависящие от $x$ могут вычисляться предварительно)\n",
    "\n",
    "2. Запрограммируйте этот способ, и постройте график интерполяционного многочлена вместе с графиком исходной функции и точками интерполяции.  \n",
    "(*Обратите внимание, что при $x = x_j$ может возникнуть деление на 0, поэтому может понадобиться соответствующая проверка*)\n"
   ]
  }
 ],
 "metadata": {
  "anaconda-cloud": {},
  "celltoolbar": "Slideshow",
  "kernelspec": {
   "display_name": "Python 3",
   "language": "python",
   "name": "python3"
  },
  "language_info": {
   "codemirror_mode": {
    "name": "ipython",
    "version": 3
   },
   "file_extension": ".py",
   "mimetype": "text/x-python",
   "name": "python",
   "nbconvert_exporter": "python",
   "pygments_lexer": "ipython3",
   "version": "3.6.4"
  },
  "livereveal": {
   "start_slideshow_at": "selected",
   "theme": "white",
   "transition": "zoom"
  }
 },
 "nbformat": 4,
 "nbformat_minor": 2
}
