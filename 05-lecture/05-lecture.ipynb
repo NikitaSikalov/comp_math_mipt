{
 "cells": [
  {
   "cell_type": "markdown",
   "metadata": {
    "slideshow": {
     "slide_type": "slide"
    }
   },
   "source": [
    "# Вычислительная математика\n",
    "\n",
    "## Теория приближений\n",
    "\n",
    "### Полиномиальная интерполяция"
   ]
  },
  {
   "cell_type": "markdown",
   "metadata": {
    "slideshow": {
     "slide_type": "slide"
    }
   },
   "source": [
    "## Теория приближений\n",
    "\n",
    "* Основная задача: для функции $f$ из заданного класса $F$ найти наилучшее *в некотором смысле* приближение $\\phi \\approx f$ из класса $\\Phi$ \"простых\" и \"удобных\" функций.\n",
    "\n",
    "* Задача включает в себя \n",
    "    * построение эффективного алгоритма вычисления приближения\n",
    "    * доказательство различных оценок сложности алгоритма и величины ошибки приближения в зависимости от свойств класса $F$ (гладкость, величина производных, периодичность и т.п.)"
   ]
  },
  {
   "cell_type": "markdown",
   "metadata": {
    "slideshow": {
     "slide_type": "slide"
    }
   },
   "source": [
    "## Важная идея\n",
    "\n",
    "* **Большое число численных алгоритмов основаны на простой идее: приблизим исследуемую функцию \"простой\" функцией, а для простой функции решим задачу точно.**  \n",
    "Примеры:\n",
    "    * Численное дифференцирование\n",
    "    * Численное интегрирование\n",
    "    * Методы оптимизации\n",
    "    * Численное решение дифференциальных уравнений\n",
    "    * ..."
   ]
  },
  {
   "cell_type": "markdown",
   "metadata": {
    "slideshow": {
     "slide_type": "slide"
    }
   },
   "source": [
    "## Теория приближений. Общие подходы\n",
    "\n",
    "Как правило, классами $F$ и $\\Phi$ являются некоторые линейные пространства функций с областью определения $\\Omega$.\n",
    "\n",
    "Можно выделить два общих подхода к решению указанной задачи:\n",
    "\n",
    "1. *Минимизационный подход:* Выбирается какая-либо норма $\\Vert \\cdot \\Vert$ на $F$ и ищется функция $\\phi \\in \\Phi \\subset F$, минимизирующая $\\Vert f - \\phi\\Vert$\n",
    "2. *Интерполяционный подход:* Выбираются точки (узлы) $x_0, \\ldots, x_n \\in \\Omega$ и ищется функция $\\phi \\in \\Phi$, удовлетворяющая *интерполяционным условиям:*\n",
    "$$\n",
    "\\phi(x_i) = f(x_i), \\; i = 0, 1, \\ldots, n\n",
    "$$\n",
    "\n",
    "На самом деле, часто узлы не выбираются, а приходят \"сверху\": например, это могут быть моменты времени, в которые экспериментально измерялась некоторая величина."
   ]
  },
  {
   "cell_type": "markdown",
   "metadata": {
    "slideshow": {
     "slide_type": "slide"
    }
   },
   "source": [
    "## Интерполяция обобщенным многочленом \n",
    "\n",
    "* Рассмотрим систему линейно-независимых функций $\\phi_0,\\ldots, \\phi_n$, образующих базис в линейном подпространстве $\\Phi_n \\subset \\Phi$. Будем искать приближение в виде обобщенного полинома\n",
    "$$\n",
    "\\phi = \\sum_{k=0}^{n} c_k \\phi_k\n",
    "$$\n",
    "\n",
    "* Интерполяционные условия в узлах $x_0, \\ldots, x_n$ образуют линейную систему:\n",
    "\n",
    "$$\n",
    "\\left[\n",
    "\\begin{array}{cccc}\n",
    "\\phi_0(x_0) & \\phi_1(x_0) & \\ldots & \\phi_n(x_0) \\\\\n",
    "\\phi_0(x_1) & \\phi_1(x_1) & \\ldots & \\phi_n(x_1) \\\\\n",
    "\\ldots & \\ldots & \\ddots & \\ldots \\\\\n",
    "\\phi_0(x_n) & \\phi_1(x_n) & \\ldots & \\phi_n(x_n) \n",
    "\\end{array}\n",
    "\\right]\n",
    "\\left[\n",
    "\\begin{array}{c}\n",
    "c_0 \\\\\n",
    "c_1 \\\\\n",
    "\\ldots \\\\\n",
    "c_n\n",
    "\\end{array}\n",
    "\\right] = \n",
    "\\left[ \n",
    "\\begin{array}{c}\n",
    "f(x_0) \\\\\n",
    "f(x_1) \\\\\n",
    "\\ldots \\\\\n",
    "f(x_n)\n",
    "\\end{array}\n",
    "\\right]\n",
    "$$\n",
    "\n",
    "* Если матрица этой системы невырожденная, то обобщенный итерполяционный многочлен существует и единственен."
   ]
  },
  {
   "cell_type": "markdown",
   "metadata": {
    "slideshow": {
     "slide_type": "slide"
    }
   },
   "source": [
    "## Интерполяция алгебраическими многочленами\n",
    "\n",
    "* Рассмотрим теперь случай, когда $\\Phi$ - пространство многочленов, а $\\Phi_n$ - пространство многочленов степени не выше $n$. В качестве базиса в $\\Phi_n$ возьмем систему степеней $1, x^1, x^2, \\ldots, x^n$. Выписанная выше матрица линейной системы:\n",
    "\n",
    "$$\n",
    "A = \\left[\n",
    "\\begin{array}{cccc}\n",
    "1 & x_0 & x_0^2 &\\ldots & x_0^n \\\\\n",
    "1 & x_1 & x_1^2 & \\ldots & x_1^n \\\\\n",
    "\\ldots & \\ldots & \\ddots & \\ldots \\\\\n",
    "1 & x_n & x_n^2 & \\ldots & x_n^n \n",
    "\\end{array}\n",
    "\\right]\n",
    "$$\n",
    "\n",
    "Это матрица Вандермонда. Можно доказать, что\n",
    "$$\n",
    "det(A) = \\prod_{0 \\le i < j \\le n} (x_j - x_i)\n",
    "$$\n",
    "\n",
    "* Т.е., если все узлы различны, то матрица невырожденная, следовательно, **интерполяционный многочлен существует и единственен**.\n"
   ]
  },
  {
   "cell_type": "code",
   "execution_count": 1,
   "metadata": {
    "slideshow": {
     "slide_type": "slide"
    }
   },
   "outputs": [
    {
     "name": "stdout",
     "output_type": "stream",
     "text": [
      "76937538.53770486\n"
     ]
    }
   ],
   "source": [
    "# Плохая обусловленность матрицы Вандермонда\n",
    "import numpy as np\n",
    "n = 35\n",
    "x = np.linspace(0,1,n)\n",
    "A = np.vander(x)\n",
    "c = np.ones((n))\n",
    "b = np.dot(A, c)\n",
    "c_ = np.linalg.solve(A, b)\n",
    "print(np.linalg.norm(c-c_, ord = np.inf))"
   ]
  },
  {
   "cell_type": "markdown",
   "metadata": {
    "slideshow": {
     "slide_type": "slide"
    }
   },
   "source": [
    "## Интерполяционный многочлен в форме Лагранжа\n",
    "\n",
    "* **Не нужно искать коэффициенты многочлена. Достаточно получить способ вычисления значения многочлена в любой точке.** \n",
    "\n",
    "* Интерполяционный многочлен легко сконструировать: возьмем многочлены степени $n$ $l_0(x), \\ldots, l_n(x)$, удовлетворяющие следующим условиям:\n",
    "$$\n",
    "l_j(x_i) = \\left\\{\n",
    "\\begin{array} {l}\n",
    "1, \\, i=j \\\\\n",
    "0, \\, i \\ne j\n",
    "\\end{array}\n",
    "\\right. \n",
    "$$\n",
    "Тогда \n",
    "$$\n",
    "L_n(x) = \\sum_{j=0}^n f(x_j) l_j(x)\n",
    "$$\n",
    "\n",
    "* Многочлены $l_j$ существуют и единственны - это мы уже доказали. Их называют *элементарными многочленами Лагранжа*, а форму записи выше называют *интерполяционным многочленом в форме Лагранжа*. \n",
    "\n",
    "Эти многочлены удобны тем, что легко получить общую формулу для них:\n",
    "$$\n",
    "l_j(x) = \\prod_{k = 0, \\, k \\ne j}^n \\frac{x - x_k}{x_j - x_k}\n",
    "$$"
   ]
  },
  {
   "cell_type": "code",
   "execution_count": 6,
   "metadata": {
    "slideshow": {
     "slide_type": "slide"
    }
   },
   "outputs": [
    {
     "data": {
      "image/png": "[encoded data removed]",
      "text/plain": [
       "<matplotlib.figure.Figure at 0x946f240>"
      ]
     },
     "metadata": {},
     "output_type": "display_data"
    }
   ],
   "source": [
    "# Многочлены Лагранжа\n",
    "%matplotlib inline\n",
    "from scipy.interpolate import BarycentricInterpolator\n",
    "import numpy as np\n",
    "from matplotlib import pyplot as plt\n",
    "\n",
    "n = 8\n",
    "for j in [2,4]:\n",
    "    xi = np.arange(n) + 1\n",
    "    yi = np.zeros(n)\n",
    "    yi[j-1] = 1\n",
    "    lagrange = BarycentricInterpolator(xi,yi)\n",
    "\n",
    "    x = np.linspace(1,n,100)\n",
    "    y = lagrange.__call__(x)\n",
    "\n",
    "    plt.plot(x,y)\n",
    "    plt.plot(xi, yi,'ro')"
   ]
  },
  {
   "cell_type": "markdown",
   "metadata": {
    "slideshow": {
     "slide_type": "slide"
    }
   },
   "source": [
    "## Погрешность интерполяции\n",
    "\n",
    "**Теорема:**  \n",
    "Пусть $x_0, \\ldots, x_n \\in [a,b]$ и $f \\in C^{n+1}[a,b]$. Тогда \n",
    "$$\n",
    "\\begin{align}\n",
    "f(x) - L_n(x) = \\frac{f^{(n+1)} \\left(\\xi(x)\\right) }{(n+1)!} \\omega(x), \\quad \\omega(x) = \\prod_{k=0}^n (x-x_k)\n",
    "\\end{align}\n",
    "$$\n",
    "где \n",
    "$$\n",
    "\\xi(x) \\in \\big[\\min\\{x, x_0, \\ldots, x_n\\}, \\max\\{x, x_0, \\ldots, x_n\\}\\big]  \n",
    "$$\n"
   ]
  },
  {
   "cell_type": "markdown",
   "metadata": {
    "slideshow": {
     "slide_type": "fragment"
    }
   },
   "source": [
    "**Доказательство**  \n",
    "* Если $x \\ne x_k$, то $\\omega(x) \\ne 0$ и можно рассмотреть функцию от $t$:\n",
    "$$\n",
    "g(t) \\equiv f(t) - L_n(t) -c \\omega(t), \\quad c \\equiv \\frac{f(x) - L_n{x}}{\\omega(x)}\n",
    "$$"
   ]
  },
  {
   "cell_type": "markdown",
   "metadata": {
    "slideshow": {
     "slide_type": "fragment"
    }
   },
   "source": [
    "* Функция $g(t)$ обращается в нуль при $t = x, x_0, \\ldots, x_n$. По теореме Ролля $g^{(1)}(t)$ имеет $n+1$ нуль $\\Rightarrow \\ldots$ $g^{n+1}(t)$ имеет хотя бы один ноль: $\\exists \\xi : g^{(n+1)}(\\xi) = 0$:\n",
    "$$\n",
    "g^{(n+1)}(t) = f^{(n+1)}(t) - c(n+1)! \\Rightarrow f^{(n+1)}(\\xi(x)) - \\frac{f(x) - L_n{x}}{\\omega(x)}(n+1)! = 0\n",
    "$$"
   ]
  },
  {
   "cell_type": "markdown",
   "metadata": {
    "slideshow": {
     "slide_type": "slide"
    }
   },
   "source": [
    "## Разделенные разности\n",
    "\n",
    "Значения $f(x_k)$ в узлах будем называть *разделенными разностями порядка 0*. Для любой пары узлов $x_l,x_m$ величины \n",
    "$$\n",
    "f(x_l; x_m) = \\frac{f(x_l) - f(x_m)}{x_l - x_m}\n",
    "$$\n",
    "\n",
    "будем называть *разделенными разностями порядка 1*. Далее по индукции\n",
    "$$\n",
    "f(x_0;\\ldots;x_k) = \\frac{f(x_1;\\ldots;x_k) - f(x_0;\\ldots;x_{k-1})}{x_k - x_0}\n",
    "$$\n",
    "будем называть *разделенными разностями порядка k*"
   ]
  },
  {
   "cell_type": "markdown",
   "metadata": {
    "slideshow": {
     "slide_type": "slide"
    }
   },
   "source": [
    "## Разделенные разности\n",
    "Верна следующая формула:\n",
    "$$\n",
    "\\displaystyle f(x_0;\\ldots;x_k) = \\sum_{j=0}^{k} \\frac{f(x_j)}{\\displaystyle \\prod_{\\substack{l=0 \\\\ l \\ne j}}^k (x_j - x_l)}\n",
    "$$"
   ]
  },
  {
   "cell_type": "markdown",
   "metadata": {
    "slideshow": {
     "slide_type": "fragment"
    }
   },
   "source": [
    "**Доказательство:** По индукции: \n",
    "$$\n",
    "\\begin{align}\n",
    "f(x_0; \\ldots; x_k) & =  \\frac{f(x_1;\\ldots;x_k) - f(x_0;\\ldots;x_{k-1})}{x_k - x_0} = \\sum_{j=1}^k \\frac{f(x_j)}{\\displaystyle\\prod_{l = 1, l \\ne j}^k (x_j - x_l)(x_k - x_0)} - \\sum_{j=0}^{k-1} \\frac{f(x_j)}{\\displaystyle\\prod_{l = 0, l \\ne j}^{k-1} (x_j - x_l)(x_k - x_0)} = \\\\\n",
    "& = \\frac{f(x_0)}{\\prod_{l = 0, l \\ne 0}^k (x_0 - x_l)} + \\frac{f(x_k)}{\\prod_{l = 0, l \\ne k}^k (x_k - x_l)} + \\sum_{j=1}^{k-1} \\frac{f(x_j)}{\\displaystyle\\prod_{l = 1, l \\ne j}^{k-1} (x_j - x_l)(x_k - x_0)}\\left\\{\\frac{1}{x_j - x_k} - \\frac{1}{x_j - x_0}\\right\\} = \\\\\n",
    "& =\\frac{f(x_0)}{\\prod_{l = 0, l \\ne 0}^k (x_0 - x_l)} + \\frac{f(x_k)}{\\prod_{l = 0, l \\ne k}^k (x_k - x_l)} + \\frac{f(x_j)}{\\displaystyle\\prod_{l = 0, l \\ne j}^{k} (x_j - x_l)}\n",
    "\\end{align} \n",
    "$$"
   ]
  },
  {
   "cell_type": "markdown",
   "metadata": {
    "slideshow": {
     "slide_type": "slide"
    }
   },
   "source": [
    "## Следствия\n",
    "$$\n",
    "\\displaystyle f(x_0;\\ldots;x_k) = \\sum_{j=0}^{k} \\frac{f(x_j)}{\\displaystyle \\prod_{\\substack{l=0 \\\\ l \\ne j}}^k (x_j - x_l)}\n",
    "$$"
   ]
  },
  {
   "cell_type": "markdown",
   "metadata": {
    "slideshow": {
     "slide_type": "fragment"
    }
   },
   "source": [
    "1) Значения разделенной разности не зависит от порядка узлов"
   ]
  },
  {
   "cell_type": "markdown",
   "metadata": {
    "slideshow": {
     "slide_type": "fragment"
    }
   },
   "source": [
    "2) Верно:\n",
    "$$f(x) - L_n(x) = f(x; x_0;\\ldots;x_n) \\omega(x)$$\n",
    "Доказательство:\n",
    "$$f(x) - L_n(x) = \\omega(x) \\left(\\frac{f(x)}{\\omega(x)} + \\sum_{j=0}^n \\frac{f(x_j)}{(x_j - x) \\omega'(x_j)}\\right)$$"
   ]
  },
  {
   "cell_type": "markdown",
   "metadata": {
    "slideshow": {
     "slide_type": "fragment"
    }
   },
   "source": [
    "3) Сравнивая 2 формы ошибки интерполяции получаем:\n",
    "$$\n",
    "f(x_0;\\ldots;x_k) = \\frac{f^{(k)}(\\xi)}{k!} \\\\\n",
    "\\xi(x) \\in \\big[\\min\\{x, x_0, \\ldots, x_n\\}, \\max\\{x, x_0, \\ldots, x_n\\}\\big]  \n",
    "$$"
   ]
  },
  {
   "cell_type": "markdown",
   "metadata": {
    "slideshow": {
     "slide_type": "slide"
    }
   },
   "source": [
    "## Интерполяционный многочлен в форме Ньютона\n",
    "\n",
    "**Теорема**  \n",
    "$$\n",
    "\\begin{align}\n",
    "L_n(x) = f(x_0) & + f(x_0; x_1) (x - x_0) \\\\\n",
    " & + f(x_0;x_1;x_2)(x-x_0)(x-x_1) \\\\\n",
    " & +   \\ldots \\\\\n",
    " & + f(x_0;x_1;\\ldots;x_n) (x-x_0) \\ldots (x - x_{n-1})\n",
    "%\\label{eq:newton}\n",
    "\\end{align}\n",
    "$$\n"
   ]
  },
  {
   "cell_type": "markdown",
   "metadata": {
    "slideshow": {
     "slide_type": "fragment"
    }
   },
   "source": [
    "* $L_n = L_0 + (L_1 - L_0) + (L_2 - L_1) + \\ldots + (L_{n} - L_{n-1})$, где $L_k$ интерполяционный полином по первым $k+1$ точкам."
   ]
  },
  {
   "cell_type": "markdown",
   "metadata": {
    "slideshow": {
     "slide_type": "fragment"
    }
   },
   "source": [
    "* $L_{k-1}$ интерполирует $L_k$ в узлах $x_0, \\ldots, x_{k-1}$, следовательно\n",
    "$$\n",
    "L_k(x) - L_{k-1}(x) = L_k(x; x_0;\\ldots;x_{k-1})(x-x_0) \\ldots (x - x_{k-1})\n",
    "$$"
   ]
  },
  {
   "cell_type": "markdown",
   "metadata": {
    "slideshow": {
     "slide_type": "fragment"
    }
   },
   "source": [
    "* $L_k(x; x_0;\\ldots;x_{k-1}) = L_k^{(k)}(\\xi) /k! = a_k$,  $L_k = a_k x^k + \\ldots$, не зависит от $x$.  \n",
    "Поэтому можно взять $x = x_k$, а  $L_k(x_k; x_0;\\ldots;x_{k-1}) = f(x_0; \\ldots; x_k)$"
   ]
  },
  {
   "cell_type": "markdown",
   "metadata": {
    "slideshow": {
     "slide_type": "slide"
    }
   },
   "source": [
    "## Таблица разделенных разностей\n",
    "\n",
    "$$\n",
    "\\begin{array}{lllllll}\n",
    "f(x_0) & & & & & & \\\\\n",
    " &\\ddots & & & & & \\\\\n",
    "f(x_1) &\\ldots & f(x_0;x_1) & & & & \\\\\n",
    " & \\ddots & & \\ddots & & & \\\\\n",
    "f(x_2) & \\ldots & f(x_1;x_2) & \\ldots & f(x_0;x_1;x_2) & & \\\\\n",
    " & \\ddots & & \\ddots & & \\ddots & \\\\\n",
    "f(x_3) & \\ldots & f(x_2;x_3) & \\ldots & f(x_1;x_2;x_3) & \\ldots & f(x_0;x_1;x_2;x_3)\n",
    "\\end{array}\n",
    "$$"
   ]
  },
  {
   "cell_type": "markdown",
   "metadata": {
    "slideshow": {
     "slide_type": "slide"
    }
   },
   "source": [
    "## Эрмитова интерполяция\n",
    "* Форму Ньютона легко обобщить на случай *кратных узлов* $x_k = x_{k+1}$. В этом случае разделенная разность превращается в производную функции в точке $f(x_1; x_2 = x_1) = f^{(1)}(x_1)$\n",
    "* При эрмитовой интерполяции можно достигнуть той же точности при меньшем числе точек, НО нужно знать производные функции."
   ]
  },
  {
   "cell_type": "markdown",
   "metadata": {
    "slideshow": {
     "slide_type": "slide"
    }
   },
   "source": [
    "## Сходимость интерполяционного процесса\n",
    "\n",
    "Основные вопросы:\n",
    "1. Будет ли последовательность многочленов $L_n$ сходится к $f(x)$: $L_n(x) \\to f(x), \\; \\forall x \\in [a,b]$\n",
    "2. Будете ли сходимость равномерной: $\\displaystyle \\sup_{x \\in [a,b]} |f(x) - L_n(x)| \\to 0$\n",
    "3. Как сходимость зависит от свойств функции (гладкость) и узлов интерполяции?\n",
    "\n",
    "Для $f \\in C^\\infty[a,b]$ со свойством $\\sup \\vert f(x) \\vert \\le M^n \\; \\forall n$ из формулы для погрешности следует:\n",
    "$$\n",
    "f(x) - L_n(x) = \\frac{f^{(n+1)} \\left(\\xi(x)\\right) }{(n+1)!}\\prod_{k=0}^n (x-x_k) \\le \\frac{(M(b-a))^{(n+1)}}{(n+1)!} \\approx \\frac{(M(b-a))^{(n+1)}}{\\sqrt{2\\pi (n+1)} ((n+1)/e)^{(n+1)}} \\to 0\n",
    "$$"
   ]
  },
  {
   "cell_type": "code",
   "execution_count": 35,
   "metadata": {
    "slideshow": {
     "slide_type": "slide"
    }
   },
   "outputs": [
    {
     "data": {
      "text/plain": [
       "[<matplotlib.lines.Line2D at 0xad4c7f0>]"
      ]
     },
     "execution_count": 35,
     "metadata": {},
     "output_type": "execute_result"
    },
    {
     "data": {
      "image/png": "[encoded data removed]",
      "text/plain": [
       "<matplotlib.figure.Figure at 0xae7f278>"
      ]
     },
     "metadata": {},
     "output_type": "display_data"
    }
   ],
   "source": [
    "%matplotlib inline\n",
    "from scipy.interpolate import BarycentricInterpolator\n",
    "import numpy as np\n",
    "from matplotlib import pyplot as plt\n",
    "f = lambda x : np.sin(5 * x**2) \n",
    "# f = lambda x: 1/(25*x**2 + 1)\n",
    "x = np.linspace(-1,1,200)\n",
    "for n in [4]:\n",
    "    xi = np.linspace(-1,1,n)\n",
    "    yi = f(xi)\n",
    "    Ln = BarycentricInterpolator(xi,yi)\n",
    "    y = Ln.__call__(x)\n",
    "    plt.plot(x,y)\n",
    "    plt.plot(xi, yi,'o')\n",
    "plt.plot(x,f(x),'k-')"
   ]
  },
  {
   "cell_type": "code",
   "execution_count": 43,
   "metadata": {
    "slideshow": {
     "slide_type": "skip"
    }
   },
   "outputs": [
    {
     "data": {
      "text/plain": [
       "15000*(10000*z**4/(25*z**2 + 1)**2 - 300*z**2/(25*z**2 + 1) + 1)/(25*z**2 + 1)**3"
      ]
     },
     "execution_count": 43,
     "metadata": {},
     "output_type": "execute_result"
    }
   ],
   "source": [
    "from sympy import *\n",
    "z = Symbol('z')\n",
    "diff(1/(25*z**2 + 1), z,4)"
   ]
  },
  {
   "cell_type": "markdown",
   "metadata": {
    "slideshow": {
     "slide_type": "slide"
    }
   },
   "source": [
    "## Сходимость операторов\n",
    "\n",
    "* $F = C[a,b]$ - банахово пространство с нормой \n",
    "$$\n",
    "\\Vert f \\Vert_{C[a,b]} \\equiv \\max_{x \\in [a,b]} \\vert f(x) \\vert\n",
    "$$"
   ]
  },
  {
   "cell_type": "markdown",
   "metadata": {
    "slideshow": {
     "slide_type": "fragment"
    }
   },
   "source": [
    "* $\\Pi_n$ - пространство полиномов степени $\\le n$.  \n",
    "Интерполяционному процессу можно сопоставить оператор, отображает функцию в интерполяционный многочлен:\n",
    "$$\n",
    "P_n : F \\to \\Pi_n, \\quad P_n f = L_n\n",
    "$$"
   ]
  },
  {
   "cell_type": "markdown",
   "metadata": {
    "slideshow": {
     "slide_type": "fragment"
    }
   },
   "source": [
    "* Этот оператор \n",
    "    * линейный: $P_n (f_1 + f_2) = P_n f_1 + P_n f_2$ \n",
    "    * непрерывный (ограниченный)\n",
    "    * является проектором: $P_n^2 = P_n$\n",
    "    \n",
    " При каких условиях $P_n f \\to f \\quad \\forall f \\in F$?"
   ]
  },
  {
   "cell_type": "markdown",
   "metadata": {
    "slideshow": {
     "slide_type": "slide"
    }
   },
   "source": [
    "## Принцип равномерной ограниченности\n",
    "\n",
    "**Теорема**  \n",
    "Для любой последовательности непрерывных линейных операторов $\\{P_n\\}$ верно\n",
    "$$\n",
    "\\sup_{n} \\Vert P_n f\\Vert \\le c(f) < +\\infty \\; \\forall f \\in F \\quad \\Leftrightarrow \\quad \\sup_n \\Vert P_n \\Vert < +\\infty \n",
    "$$\n",
    "\n"
   ]
  },
  {
   "cell_type": "markdown",
   "metadata": {
    "slideshow": {
     "slide_type": "fragment"
    }
   },
   "source": [
    "**Теорема Банаха-Штейнгауза**  \n",
    "*Для того, чтобы последовательность функций $P_n f$ сходилась для всех $f\\in F$, необходимо и достаточно:*\n",
    "1. $\\sup_n \\Vert P_n \\Vert \\le M < + \\infty$\n",
    "2. $P_n f$ *сходится при $n \\to \\infty$ на подмножестве $\\tilde{F}$, всюду плотном в $F$ (т.е. любой элемент $F$ можно с любой точностью приблизить элементом $\\tilde{F}$)*"
   ]
  },
  {
   "cell_type": "markdown",
   "metadata": {
    "slideshow": {
     "slide_type": "fragment"
    }
   },
   "source": [
    "* ($\\Rightarrow$) - из принципа равномерной ограниченности\n",
    "* ($\\Leftarrow$) возьмем $f \\in F$ и $\\varepsilon$-приближение $f_{\\varepsilon} \\in \\tilde{F}$: $\\Vert f - f_{\\varepsilon} \\Vert \\le \\varepsilon$:\n",
    "$$\n",
    "\\Vert P_n f - P_m f \\Vert \\le \\Vert P_n f - P_n f_{\\varepsilon} \\Vert + \\Vert P_n f_{\\varepsilon} - P_m f_{\\varepsilon} \\Vert + \\Vert P_m f_{\\varepsilon} - P_m f \\Vert \\le M \\varepsilon + \\varepsilon + M \\varepsilon\n",
    "$$\n",
    "следовательно последовательность фундаментальная и сходится."
   ]
  },
  {
   "cell_type": "markdown",
   "metadata": {
    "slideshow": {
     "slide_type": "slide"
    }
   },
   "source": [
    "## Принцип равномерной ограниченности\n",
    "\n",
    "* Если $P_n$ - оператор интерполяции, то $P_n f \\to f$ для всех многочленов $f$. \n",
    "* По теореме Вейерштрасса, любую непрерывную функцию можно приблизить многочленом, т.е. это всюду плотное множество \n",
    "* **Сходимость будет определяться поведением норм $\\Vert P_n \\Vert$ при $n \\to \\infty$**"
   ]
  }
 ],
 "metadata": {
  "anaconda-cloud": {},
  "celltoolbar": "Slideshow",
  "kernelspec": {
   "display_name": "Python 3",
   "language": "python",
   "name": "python3"
  },
  "language_info": {
   "codemirror_mode": {
    "name": "ipython",
    "version": 3
   },
   "file_extension": ".py",
   "mimetype": "text/x-python",
   "name": "python",
   "nbconvert_exporter": "python",
   "pygments_lexer": "ipython3",
   "version": "3.6.4"
  },
  "livereveal": {
   "start_slideshow_at": "selected",
   "theme": "white",
   "transition": "zoom"
  }
 },
 "nbformat": 4,
 "nbformat_minor": 2
}
