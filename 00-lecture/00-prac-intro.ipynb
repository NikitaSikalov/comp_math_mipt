{
 "cells": [
  {
   "cell_type": "code",
   "execution_count": 6,
   "metadata": {
    "slideshow": {
     "slide_type": "skip"
    }
   },
   "outputs": [],
   "source": [
    "%matplotlib inline\n",
    "import matplotlib\n",
    "from matplotlib import pyplot as plt\n",
    "matplotlib.rcParams.update({'font.size': 14})\n",
    "plt.rcParams['figure.figsize'] = (12,6)"
   ]
  },
  {
   "cell_type": "markdown",
   "metadata": {
    "slideshow": {
     "slide_type": "slide"
    }
   },
   "source": [
    "# Вычислительная математика, ФИВТ, 2018"
   ]
  },
  {
   "cell_type": "markdown",
   "metadata": {
    "slideshow": {
     "slide_type": "slide"
    }
   },
   "source": [
    "## Контакты\n",
    "\n",
    "Чикиткин Александр Викторович, к.ф.-м.н.\n",
    "\n",
    "Кафедра вычислительной физики МФТИ (603 КПМ)\n",
    "\n",
    "**Лаборатория математического моделирования нелинейных процессов в газовых средах МФТИ (606 КПМ)**\n"
   ]
  },
  {
   "cell_type": "markdown",
   "metadata": {
    "slideshow": {
     "slide_type": "slide"
    }
   },
   "source": [
    "## Общая информация о курсе\n",
    "\n",
    "* Лекции и семинары\n",
    "* Два письменные задания (**по 0.5 балла**)\n",
    "* Две контрольные работы (1-я на семинарах, 2-я (итоговая) на лекции) (**по 2.5 балла**)\n",
    "* 3 задачи на программирование + вопросы по теории (**по 1 баллу**)\n",
    "* Посещение семинаров (**1 балл за все посещения**)\n",
    "* Итоговая оценка округляется В МЕНЬШУЮ СТОРОНУ\n",
    "\n",
    "\n",
    "\n",
    "* **При желании, некоторые задания могут быть заменены прикладными задачами из исследовательских проектов.** \n",
    "\n",
    "**В перерыве напишите свой email для рассылки заданий**\n",
    "\n",
    "### Вопросы?"
   ]
  },
  {
   "cell_type": "markdown",
   "metadata": {
    "slideshow": {
     "slide_type": "slide"
    }
   },
   "source": [
    "# О чём предмет?\n",
    "Названия: вычислительная математика, численные методы, numerical analysis, scientific computing.\n",
    "\n",
    "* *Numerical analysis is the study of algorithms for the problems of continuous mathematics.* (L. N. Trefethen)\n",
    "\n",
    "* *Вычислительная математика изучает алгоритмы решения задач непрерывной математики.* \n",
    "\n",
    "**Алгоритмы** - конечная последовательность операций для получения приближенного решения (числа, вектора и т.п.)\n",
    "\n",
    "**Непрерывная математика** - решаемые задачи содержать непрерывные переменные ($\\mathbb{R}^n$, $\\mathbb{C}^n$ ). \n",
    "\n",
    "*Алгоритмы решения задач дискретной математики: информатика, теория алгоритмов, комбинаторика (computer science)*\n",
    "\n",
    "**Четкой границы между этими областями нет!**"
   ]
  },
  {
   "cell_type": "markdown",
   "metadata": {
    "slideshow": {
     "slide_type": "slide"
    }
   },
   "source": [
    "## Формат семинаров\n",
    "\n",
    "* Краткое повторение/изучение теории\n",
    "* Решение практических задач на Python \n",
    "* Анализ, объяснение результатов"
   ]
  },
  {
   "cell_type": "markdown",
   "metadata": {
    "slideshow": {
     "slide_type": "slide"
    }
   },
   "source": [
    "## Запуск Jupyter notebook\n",
    "\n",
    "1. Включите комьютеры, загрузите CentOS, логин student\n",
    "2. Places-> connect to Server\n",
    "3. Server type: Windows  \n",
    "Server: pxe.vdi.mipt.ru  \n",
    "folder: tmp  \n",
    "username: student\n",
    "4. Скопируйте папку \"00-lecture\" в локальную папку student\n",
    "5. Запустите на рабочем столе ярлык jupyter\n",
    "6. Откройте \"00-lecture/00-prac-intro.ipynb\"\n",
    "\n",
    "\n"
   ]
  },
  {
   "cell_type": "markdown",
   "metadata": {
    "slideshow": {
     "slide_type": "slide"
    }
   },
   "source": [
    "## Машинная арифметика в Python"
   ]
  },
  {
   "cell_type": "code",
   "execution_count": 2,
   "metadata": {
    "slideshow": {
     "slide_type": "fragment"
    }
   },
   "outputs": [
    {
     "name": "stdout",
     "output_type": "stream",
     "text": [
      "Python machine eps: 2.220446049250313e-16\n",
      "2**-52 = 2.220446049250313e-16\n",
      "1 + 2**-52 = 1.0000000000000002\n",
      "1 + 2**-53 = 1.0\n",
      "2**-1075 = 5e-324\n",
      "2**-1076 = 0.0\n"
     ]
    }
   ],
   "source": [
    "import numpy as np\n",
    "print('Python machine eps:', np.finfo(float).eps) # Машинное эпсилон Питона\n",
    "print('2**-52 =', 2**-52)\n",
    "# При этом \n",
    "print('1 + 2**-52 =', 1 + 2**-52)\n",
    "print('1 + 2**-53 =', 1 + 2**-53)\n",
    "# Порог машинного нуля ниже, чем в теории (см. \"субнормальные числа\")\n",
    "print('2**-1075 =', 2**-1075)\n",
    "print('2**-1076 =', 2**-1076)"
   ]
  },
  {
   "cell_type": "markdown",
   "metadata": {
    "slideshow": {
     "slide_type": "slide"
    }
   },
   "source": [
    "## Суммирование $n$ чисел. [Алгоритм Кэхэна](https://ru.wikipedia.org/wiki/%D0%90%D0%BB%D0%B3%D0%BE%D1%80%D0%B8%D1%82%D0%BC_%D0%9A%D1%8D%D1%85%D1%8D%D0%BD%D0%B0)\n",
    "\n",
    "Для вычисления суммы $n$ чисел\n",
    "```\n",
    "sum = 0  \n",
    "c = 0  \n",
    "    for i = 1, N\n",
    "        y = a[i] - c\n",
    "        t = sum + y\n",
    "        c = (t - sum) - y\n",
    "        sum = t\n",
    "    end for\n",
    "```\n"
   ]
  },
  {
   "cell_type": "code",
   "execution_count": 1,
   "metadata": {
    "slideshow": {
     "slide_type": "skip"
    }
   },
   "outputs": [
    {
     "name": "stdout",
     "output_type": "stream",
     "text": [
      "Error in numpy sum = 1.86e-04 \n"
     ]
    }
   ],
   "source": [
    "# Вычисление суммы\n",
    "import numpy as np\n",
    "\n",
    "n = 10 ** 8\n",
    "sm = 1e-10\n",
    "x = np.ones(n, dtype=np.float32) * sm\n",
    "x[0] = 1.0\n",
    "sum_ex = 1.0 + (n - 1)*sm\n",
    "sum_np = np.sum(x)\n",
    "\n",
    "#\n",
    "# Добавьте вычисление суммы по алгоритму Кэхэна и с помощью простой суммы и добавьте ошибку в вывод\n",
    "# Не забудьте все числа привести к формату np.float32\n",
    "# Попробуйте то же самое для двойной точности\n",
    "\n",
    "\n",
    "print('Error in numpy sum = {0:5.2e} '.format(np.abs(sum_ex - sum_np)))"
   ]
  },
  {
   "cell_type": "markdown",
   "metadata": {
    "slideshow": {
     "slide_type": "slide"
    }
   },
   "source": [
    "# Вычисление производной\n",
    "\n",
    "На доске...\n",
    "\n",
    "Постройте в логарифмической шкале график зависимости ошибки от шага $h$. Попробуйте двойную и одинарную точность\n"
   ]
  },
  {
   "cell_type": "code",
   "execution_count": 11,
   "metadata": {
    "slideshow": {
     "slide_type": "fragment"
    }
   },
   "outputs": [
    {
     "data": {
      "text/plain": [
       "[<matplotlib.lines.Line2D at 0x9043ef0>]"
      ]
     },
     "execution_count": 11,
     "metadata": {},
     "output_type": "execute_result"
    },
    {
     "data": {
      "image/png": "[encoded data removed]",
      "text/plain": [
       "<matplotlib.figure.Figure at 0x8aff198>"
      ]
     },
     "metadata": {},
     "output_type": "display_data"
    }
   ],
   "source": [
    "from matplotlib import pyplot as plt\n",
    "import numpy as np\n",
    "\n",
    "f = lambda x: np.sin(x)\n",
    "df = lambda x: np.cos(x)\n",
    "\n",
    "#\n",
    "# Ваш код здесь\n",
    "#\n",
    "\n",
    "plt.loglog(np.arange(4), np.arange(4)) # Так строится график в логарифмической шкале"
   ]
  },
  {
   "cell_type": "markdown",
   "metadata": {
    "slideshow": {
     "slide_type": "slide"
    }
   },
   "source": [
    "## Задача. Вычисление многочлена по правилу Горнера.\n",
    "\n",
    "$$\n",
    "p(x) = \\sum_{i=0}^d a_i x^i\n",
    "$$\n",
    "\n",
    "Алгоритм Горнера для вычисления многочлена в точке $x$:  \n",
    "```\n",
    "p = a_d  \n",
    "for i = d - 1 to 0  \n",
    "    p = x \\times p + a_i\n",
    "end for\n",
    "```"
   ]
  },
  {
   "cell_type": "code",
   "execution_count": 8,
   "metadata": {
    "slideshow": {
     "slide_type": "slide"
    }
   },
   "outputs": [
    {
     "data": {
      "text/plain": [
       "[<matplotlib.lines.Line2D at 0x8a8def0>]"
      ]
     },
     "execution_count": 8,
     "metadata": {},
     "output_type": "execute_result"
    },
    {
     "data": {
      "image/png": "[encoded data removed]",
      "text/plain": [
       "<matplotlib.figure.Figure at 0x8a765f8>"
      ]
     },
     "metadata": {},
     "output_type": "display_data"
    }
   ],
   "source": [
    "import numpy as np\n",
    "from matplotlib import pyplot as plt\n",
    "\n",
    "c = np.array([-512, 2304, -4608, 5376, -4032, 2016, -672, 144, -18, 1])\n",
    "p = lambda x: (x-2)**9\n",
    "\n",
    "xx = np.linspace(1.92, 2.08, 1000)\n",
    "yy = p(xx)\n",
    "\n",
    "plt.plot(xx, yy, 'b-')\n",
    "\n",
    "#\n",
    "# Добавьте вычисление значений многочлена по правилу Горнера, постройте график\n",
    "# \n"
   ]
  },
  {
   "cell_type": "code",
   "execution_count": null,
   "metadata": {},
   "outputs": [],
   "source": []
  }
 ],
 "metadata": {
  "anaconda-cloud": {},
  "celltoolbar": "Slideshow",
  "kernelspec": {
   "display_name": "Python 3",
   "language": "python",
   "name": "python3"
  },
  "language_info": {
   "codemirror_mode": {
    "name": "ipython",
    "version": 3
   },
   "file_extension": ".py",
   "mimetype": "text/x-python",
   "name": "python",
   "nbconvert_exporter": "python",
   "pygments_lexer": "ipython3",
   "version": "3.6.4"
  },
  "livereveal": {
   "start_slideshow_at": "selected",
   "theme": "white",
   "transition": "zoom"
  }
 },
 "nbformat": 4,
 "nbformat_minor": 2
}
