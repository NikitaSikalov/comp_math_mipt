{
 "cells": [
  {
   "cell_type": "code",
   "execution_count": 1,
   "metadata": {},
   "outputs": [],
   "source": [
    "%matplotlib inline\n",
    "import numpy as np\n",
    "from matplotlib import pyplot as plt\n",
    "import matplotlib\n",
    "matplotlib.rcParams.update({'font.size': 22})"
   ]
  },
  {
   "cell_type": "markdown",
   "metadata": {
    "slideshow": {
     "slide_type": "slide"
    }
   },
   "source": [
    "# Вычислительная математика \n",
    "\n",
    "## Численное дифференцирование"
   ]
  },
  {
   "cell_type": "markdown",
   "metadata": {
    "slideshow": {
     "slide_type": "slide"
    }
   },
   "source": [
    "## Основная задача\n",
    "\n",
    "1. Дана процедура вычисления значений гладкой функции $f(x)$. Нужно вычислить значение производной в точке $f'(x_0)$.\n",
    "\n",
    "2. Даны точки $x_1, \\ldots, x_n$ и значения гладкой функции в этих точках $f(x_k)$. Найти значения $f'(x_0)$ или $f'(x_k)$."
   ]
  },
  {
   "cell_type": "markdown",
   "metadata": {
    "slideshow": {
     "slide_type": "slide"
    }
   },
   "source": [
    "* Пример: \n",
    "$$\n",
    "f'(x) \\approx \\hat{f}' = \\frac{f(x + h) - f(x)}{h} = \\frac{f(x) + f'(x) h + f''(x)h^2/2 + O(h^3) - f(x)}{h} = f'(x) + f''(x) \\frac{h}{2} + \\mathcal{O}(h^2) = f'(x) + f''(\\xi) \\frac{h}{2} = f'(x) + \\mathcal{O}(h)\n",
    "$$"
   ]
  },
  {
   "cell_type": "markdown",
   "metadata": {
    "slideshow": {
     "slide_type": "fragment"
    }
   },
   "source": [
    "В точной арифметике $\\lvert f'(x) - \\hat{f}' \\rvert \\le E(h) =  \\frac{M_2}{2} h$, $M_2 = \\max \\lvert f''\\rvert$"
   ]
  },
  {
   "cell_type": "markdown",
   "metadata": {
    "slideshow": {
     "slide_type": "fragment"
    }
   },
   "source": [
    "* В машинной арифметике:\n",
    "$$\n",
    "\\begin{align}\n",
    "& \\hat{f}' = \\frac{f(x+h) (1 + \\epsilon_1) - f(x)(1+\\epsilon_2)}{h} =  f'(x) + f''(\\xi) \\frac{h}{2} + \\frac{\\epsilon_1 f(x+h) -\\epsilon_2 f(x)}{h}, \\; \\lvert \\epsilon_k \\rvert \\le \\epsilon \\\\\n",
    "& \\lvert f'(x) - \\hat{f}'\\rvert \\le \\frac{M_2}{2} h + \\bigg| \\frac{\\epsilon_1 f(x+h) -\\epsilon_2 f(x)}{h} \\bigg| \\le \\frac{M_2}{2} h + \\frac{2 M_0 \\epsilon}{h} = E(h)\n",
    "\\end{align}\n",
    "$$"
   ]
  },
  {
   "cell_type": "markdown",
   "metadata": {
    "slideshow": {
     "slide_type": "fragment"
    }
   },
   "source": [
    "Точка минимума - оптимальный шаг:\n",
    "$$\n",
    "E'(h) = 0 = \\frac{M_2}{2} - \\frac{2 M_0 \\epsilon}{h^2}, \\quad h^* = \\left(\\frac{4 M_0 \\epsilon}{M_2}\\right)^{1/2} \n",
    "$$"
   ]
  },
  {
   "cell_type": "code",
   "execution_count": 3,
   "metadata": {
    "slideshow": {
     "slide_type": "slide"
    }
   },
   "outputs": [
    {
     "data": {
      "image/png": "[encoded data removed]",
      "text/plain": [
       "<matplotlib.figure.Figure at 0x8e928d0>"
      ]
     },
     "metadata": {},
     "output_type": "display_data"
    }
   ],
   "source": [
    "f = lambda x : np.sin(x)\n",
    "df = lambda x : np.cos(x)\n",
    "x0 = 0.1\n",
    "n = 30\n",
    "h = np.zeros(n)\n",
    "err = np.zeros(n)\n",
    "for i in range(n):\n",
    "    h[i] = 2**(-i)\n",
    "    df_num = (f(x0 + h[i]) - f(x0)) / h[i]\n",
    "    err[i] = np.abs(df_num - df(x0))\n",
    "fig, ax = plt.subplots(figsize = (10,5))\n",
    "ax.loglog(h,err)\n",
    "ax.grid(True)"
   ]
  },
  {
   "cell_type": "markdown",
   "metadata": {
    "slideshow": {
     "slide_type": "slide"
    }
   },
   "source": [
    "## Повышение порядка, метод неопределенных коэффициентов\n",
    "* Даны точки $x_1,\\ldots, x_n$ и точка $x$, конечная разность имеет вид:\n",
    "$$\n",
    "\\hat{f}' = \\sum_{k=1}^n a_k f(x_k)\n",
    "$$\n",
    "Нужно подобрать $a_k$ так, чтобы занулить как можно больше членов в разложении ошибки\n",
    "$$\n",
    "f'(x) - \\hat{f}' = f'(x) - \\sum_{k=1}^{n} a_k \\left(f(x) + f'(x) (x_k - x) + \\frac{f''(x)}{2} (x_k - x)^2 + \\ldots\\right)\n",
    "$$"
   ]
  },
  {
   "cell_type": "markdown",
   "metadata": {},
   "source": [
    "* Занулим коэффициенты при $f(x)$, $f'(x)$, $f''(x)$: \n",
    "$$ \n",
    "\\begin{align}\n",
    "& \\sum_{k=1}^n a_k = 0 \\\\\n",
    "& \\sum_{k=1}^n a_k (x_k - x) = 1\\\\\n",
    "& \\sum_{k=1}^n a_k \\frac{(x_k - x)^2}{2!} = 0 \\\\\n",
    "\\end{align}\n",
    "$$"
   ]
  },
  {
   "cell_type": "markdown",
   "metadata": {
    "slideshow": {
     "slide_type": "slide"
    }
   },
   "source": [
    "## Метод неопределенных коэффициентов\n",
    "\n",
    "* Получаем линейную систему на коэффициенты:\n",
    "$$\n",
    "\\begin{align}\n",
    "\\left[\\begin{array}{lll}\n",
    "1 & 1 & \\ldots & 1 \\\\\n",
    "\\frac{(x_1 - x)}{1!} & \\frac{(x_2 - x)}{1!} & \\ldots & \\frac{(x_n - x)}{1!} \\\\\n",
    "\\ldots & & & \\\\\n",
    "\\frac{(x_1 - x)^{n-1}}{(n-1)!} & \\frac{(x_2 - x)^{n-1}}{(n-1)!} & \\ldots & \\frac{(x_n - x)^{n-1}}{(n-1)!}\n",
    "\\end{array}\\right] \n",
    "\\left[\\begin{array}{c}\n",
    "a_1 \\\\\n",
    "a_2 \\\\\n",
    "\\vdots \\\\\n",
    "a_n\n",
    "\\end{array}\\right] = \n",
    "\\left[\\begin{array}{c}\n",
    "0 \\\\\n",
    "1 \\\\\n",
    "\\vdots \\\\\n",
    "0\n",
    "\\end{array}\\right]\n",
    "\\end{align}\n",
    "$$"
   ]
  },
  {
   "cell_type": "markdown",
   "metadata": {
    "slideshow": {
     "slide_type": "fragment"
    }
   },
   "source": [
    "* Матрица Вандермонда не вырожденная, получаем единственное решение, ошибка имеет вид:\n",
    "$$\n",
    "f'(x) - \\hat{f}' = -\\sum_{k=1}^{n} a_k \\frac{f^{(n)}(x)}{n!}(x_k - x)^n + \\ldots = -\\sum_{k=1}^{n} a_k \\frac{f^{(n)}(\\xi_k)}{n!}(x_k - x)^n\n",
    "$$"
   ]
  },
  {
   "cell_type": "markdown",
   "metadata": {
    "slideshow": {
     "slide_type": "fragment"
    }
   },
   "source": [
    "* При \"линейном сжатии\" сетки $a_k = O(1/h)$ и ошибка $O(h^{n-1})$, $h = \\max(x_k - x)$\n",
    "* Если узлы расположены симметрично относительно $x$, то ошибка $O(h^n)$ (следующий член зануляется)\n",
    "* Для производной порядка $d$ по $n$ узлам можно получить порядок $n-d$ ($n -d + 1$ в симметричном случае)"
   ]
  },
  {
   "cell_type": "markdown",
   "metadata": {
    "slideshow": {
     "slide_type": "slide"
    }
   },
   "source": [
    "## Дифференцирование интерполяционного многочлена\n",
    "\n",
    "$$\n",
    "L_n(x) = \\sum_{k=1}^{n} l_j(x) f_j \\\\\n",
    "L_n'(x) = \\sum_{k=1}^{n} l'_j(x)f_j\n",
    "$$ \n",
    "т.е. $a_k = l_k'(x)$. Можно получить для $a_k$ ту же самую систему (на доске)."
   ]
  },
  {
   "cell_type": "markdown",
   "metadata": {
    "slideshow": {
     "slide_type": "slide"
    }
   },
   "source": [
    "## Дифференцирование в матричной (операторной форме)\n",
    "\n",
    "* Пусть $f = [f_1, \\ldots, f_n]$ - значения функции в узлах, $w = [w_1, \\ldots, w_n]$ - приближенные значения производных в узлах."
   ]
  },
  {
   "cell_type": "markdown",
   "metadata": {
    "slideshow": {
     "slide_type": "fragment"
    }
   },
   "source": [
    "* Численное дифференцирование можно представить как действие линейного оператора на вектор $f$.  \n",
    "Например, для равномерной сетки, и маленького шаблона:\n",
    "$$\n",
    "w = D f, \\; D =\n",
    "\\left[\\begin{array}{ccccc}\n",
    "-\\frac{1}{h} & \\frac{1}{h} & 0 & \\ldots & 0 \\\\\n",
    "-\\frac{1}{2h} & 0 & \\frac{1}{2h} & \\ldots & 0 \\\\\n",
    "& \\ddots & \\ddots & \\ddots &  0 \\\\\n",
    "0 & \\ldots & & -\\frac{1}{h} & \\frac{1}{h}\n",
    "\\end{array}\\right]\n",
    "$$"
   ]
  },
  {
   "cell_type": "markdown",
   "metadata": {
    "slideshow": {
     "slide_type": "fragment"
    }
   },
   "source": [
    "* При использовании формул высокого порядка, матрица получится *плотной*:\n",
    "$$\n",
    "D = [l_j'(x_i)]\n",
    "$$\n",
    "* Для чебышевских узлов, умножение на матрицу $D$ можно вычислять с помощью FFT за $O(n \\log n)$"
   ]
  }
 ],
 "metadata": {
  "anaconda-cloud": {},
  "celltoolbar": "Slideshow",
  "kernelspec": {
   "display_name": "Python 3",
   "language": "python",
   "name": "python3"
  },
  "language_info": {
   "codemirror_mode": {
    "name": "ipython",
    "version": 3
   },
   "file_extension": ".py",
   "mimetype": "text/x-python",
   "name": "python",
   "nbconvert_exporter": "python",
   "pygments_lexer": "ipython3",
   "version": "3.6.4"
  },
  "livereveal": {
   "start_slideshow_at": "selected",
   "theme": "white",
   "transition": "zoom"
  }
 },
 "nbformat": 4,
 "nbformat_minor": 2
}
