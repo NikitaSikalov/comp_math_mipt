{
 "cells": [
  {
   "cell_type": "markdown",
   "metadata": {},
   "source": [
    "## Итерационные методы\n",
    "\n",
    "Рассмотрим метод простой итерации для решения $Ax = f, \\; A = A^T >0$\n",
    "$$\n",
    "x^{(k+1)} = x^{(k)} - \\tau (A x^{(k)}-f) = x^{(k)} + \\tau r^{(k)}\n",
    "$$\n",
    "$r^{(k)} = b - Ax^{(k)}$\n",
    "* Один из путей улучшения - чебышевские итерации\n",
    "* Другой путь: подбирать $\\tau^{(k)}$ на каждом шаге так, чтобы норма текущей невязки была минимальна:\n",
    "$\\Vert r^{(k+1)} \\Vert_2^2 \\to \\min$ \n",
    "* Такой метод называется *метод наискорейшего спуска*\n",
    "\n",
    "**Задача**\n",
    "1. Выведите формулу для параметра $\\tau^{(k)}$\n",
    "2. Запрограммируйте метод, постройте график зависимости нормы ошибки $\\Vert e_k \\Vert_2$ от числа итераций"
   ]
  },
  {
   "cell_type": "code",
   "execution_count": 11,
   "metadata": {},
   "outputs": [
    {
     "name": "stdout",
     "output_type": "stream",
     "text": [
      "[10  2  3]\n",
      "[1 2 3]\n"
     ]
    }
   ],
   "source": [
    "x = np.array([1, 2, 3])\n",
    "y = x\n",
    "z = np.copy(x)\n",
    "\n",
    "x[0] = 10\n",
    "print(y)\n",
    "print(z)"
   ]
  }
 ],
 "metadata": {
  "kernelspec": {
   "display_name": "Python 3",
   "language": "python",
   "name": "python3"
  },
  "language_info": {
   "codemirror_mode": {
    "name": "ipython",
    "version": 3
   },
   "file_extension": ".py",
   "mimetype": "text/x-python",
   "name": "python",
   "nbconvert_exporter": "python",
   "pygments_lexer": "ipython3",
   "version": "3.6.4"
  }
 },
 "nbformat": 4,
 "nbformat_minor": 2
}
