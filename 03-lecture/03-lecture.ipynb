{
 "cells": [
  {
   "cell_type": "code",
   "execution_count": 92,
   "metadata": {
    "slideshow": {
     "slide_type": "skip"
    }
   },
   "outputs": [],
   "source": [
    "%matplotlib inline\n",
    "import numpy as np\n",
    "from matplotlib import rc\n",
    "# rc('text', usetex=True)\n",
    "rc('font', **{'size' : 20})"
   ]
  },
  {
   "cell_type": "markdown",
   "metadata": {
    "slideshow": {
     "slide_type": "slide"
    }
   },
   "source": [
    "# Вычислительная математика\n",
    "\n",
    "## Итерационные методы"
   ]
  },
  {
   "cell_type": "markdown",
   "metadata": {
    "slideshow": {
     "slide_type": "slide"
    }
   },
   "source": [
    "## Прямые и итерационные методы решения СЛАУ\n",
    "\n",
    "Решаем систему $A x = b$\n",
    "\n",
    "**Прямые методы (метод Гаусса, Холецкого, QR разложение)**\n",
    "* Позволяют за конечное число шагов в точной арифметике получить точное решение\n",
    "\n",
    "**Итерационные методы**\n",
    "* Строится последовательность приближенных решений, которая сходится к точному. На каждом шаге получаем *конечную ошибку*."
   ]
  },
  {
   "cell_type": "markdown",
   "metadata": {
    "slideshow": {
     "slide_type": "slide"
    }
   },
   "source": [
    "## Зачем нужны итерационные методы?\n",
    "\n",
    "* Прямые методы имеют сложность $\\mathcal{O}(n^3)$\n",
    "* Сложно распараллеливаются\n",
    "* Не все прямые методы способны учитывать особенную структуру матриц. Например: если $A$ - разреженная, матрицы $L$ и $U$ не обязательно будут разреженными"
   ]
  },
  {
   "cell_type": "markdown",
   "metadata": {
    "slideshow": {
     "slide_type": "slide"
    }
   },
   "source": [
    "## Потеря разреженности"
   ]
  },
  {
   "cell_type": "code",
   "execution_count": 93,
   "metadata": {
    "slideshow": {
     "slide_type": "slide"
    }
   },
   "outputs": [
    {
     "data": {
      "text/plain": [
       "<matplotlib.image.AxesImage at 0xfce4da0>"
      ]
     },
     "execution_count": 93,
     "metadata": {},
     "output_type": "execute_result"
    },
    {
     "data": {
      "image/png": "[encoded data removed]",
      "text/plain": [
       "<matplotlib.figure.Figure at 0xe12ee48>"
      ]
     },
     "metadata": {},
     "output_type": "display_data"
    }
   ],
   "source": [
    "%matplotlib inline \n",
    "import numpy as np\n",
    "from scipy import sparse, linalg\n",
    "from matplotlib import pyplot as plt\n",
    "\n",
    "n = 100\n",
    "A = sparse.random(n, n, 0.05) + np.eye(n)\n",
    "LU,piv = linalg.lu_factor(A)\n",
    "\n",
    "fig, (ax1, ax2) = plt.subplots(1,2, figsize = (10,5))\n",
    "ax1.spy(A)\n",
    "ax2.spy(LU)"
   ]
  },
  {
   "cell_type": "markdown",
   "metadata": {
    "slideshow": {
     "slide_type": "slide"
    }
   },
   "source": [
    "## Итерационные методы\n",
    "\n",
    "* Общая идея: построить последовательность $x^{(k)}$, которая сходится к точному решению\n",
    "\n",
    "Преимущества итерационных методов:\n",
    "1. Каждый шаг метода использует только матрично-векторное умножение. Сложность $\\mathcal{O}(K n ^2)$, где $K$ - число итераций.\n",
    "2. Нет необходимости работать с элементами матрицы $A$, достаточно иметь процедуру - \"черный ящик\" - которая вычисляет произведение матрицы на вектор.\n",
    "3. Матрично-векторное умножение легко распараллеливается с высокой эффективностью\n",
    "4. Не всегда нужно вычислять решение системы *точно*. В итерационных методах из оценки ошибки по заданной точности можно вычислить число итераций. При небольшой точности можно уменьшить объем вычислений.\n"
   ]
  },
  {
   "cell_type": "markdown",
   "metadata": {
    "slideshow": {
     "slide_type": "slide"
    }
   },
   "source": [
    "## Метод Ричардсона (метод простой итерации)\n",
    "\n",
    "* Рассмотрим систему $A x = f, \\; A = A^T > 0$:\n",
    "$$\n",
    "\\begin{align}\n",
    "& A x = f \\\\\n",
    "& \\tau (Ax - f) = 0 \\\\ \n",
    "& x - \\tau (Ax - f) = x \\\\\n",
    "& \\boxed{x^{(k+1)} = x^{(k)} - \\tau (A x^{(k)} -f)  = (I - \\tau A) x^{(k)} + \\tau f}\n",
    "\\end{align}\n",
    "$$\n",
    "$\\tau$ - итерационный параметр.\n",
    "* \n",
    "$$ \n",
    "\\begin{align}\n",
    "\\left\\{\\begin{array}{ccc}\n",
    "& x^{(k+1)} &=& (I - \\tau A) x^{(k)} + \\tau f \\\\\n",
    "& x &=& (I - \\tau A) x + \\tau f\n",
    "\\end{array}\\right.\n",
    "\\end{align} \\Rightarrow x^{(k+1)} - x = e^{(k+1)} = (I - \\tau A) e^{(k)} \\Rightarrow  \\Vert e^{(k+1)}\\Vert = \\Vert (I - \\tau A)\\Vert \\Vert e^{(k)} \\Vert \\le \\Vert (I - \\tau A)\\Vert^{k+1} \\Vert e^{(0)} \\Vert \n",
    "$$\n",
    "* Обозначим $\\mu_k$ - собственные числа матрицы $B = I - \\tau A$, $\\lambda_k$ - с.ч. $A$.  \n",
    " Тогда $\\mu_k = 1 - \\tau \\lambda_k$, критерий сходимости метода $\\rho (B) = \\max_k |1 -\\tau\\lambda_k| < 1$. \n",
    "* Т.к. $\\lambda_k >0$, при $0 < \\tau < 2/\\lambda_{max}$ метод сходится."
   ]
  },
  {
   "cell_type": "markdown",
   "metadata": {
    "slideshow": {
     "slide_type": "slide"
    }
   },
   "source": [
    "## Метод простой итерации, оптимальный параметр\n",
    "\n",
    "* Т.к. $A$ и $B = I - \\tau A$ - нормальные матрицы, мы знаем точный характер убывания ошибки:\n",
    "$$\n",
    "B = U \\Lambda U^* \\; \\Rightarrow \\Vert B^n e^{(0)} \\Vert = \\Vert U \\Lambda U^* U \\Lambda U^* \\ldots U \\Lambda U^* e^{(0)} \\Vert = \\Vert U \\Lambda^n U^* e^{(0)} \\Vert = \\Vert \\Lambda^n e^{(0)} \\Vert \\le \\max_k |1 -\\tau \\lambda_k|^n \\Vert e^{(0)} \\Vert\n",
    "$$\n",
    "Другая точка зрения: разложим ошибку по ортонормированному базису из с.в. матрицы $B$:\n",
    "$$\n",
    "e^{(0)} = \\sum_k c_k u_k \\Rightarrow B e^{(0)} = \\sum_k \\mu_k c_k u_k \\Rightarrow B^n e^{(0)} = \\sum_k \\mu_k^n c_k u_k\n",
    "$$\n",
    "т.е. компонента ошибки вдоль $k$-го вектора убывает как $\\mu_k^n$.\n",
    "\n"
   ]
  },
  {
   "cell_type": "markdown",
   "metadata": {
    "slideshow": {
     "slide_type": "slide"
    }
   },
   "source": [
    "## Метод простой итерации, оптимальный параметр"
   ]
  },
  {
   "cell_type": "code",
   "execution_count": 94,
   "metadata": {
    "slideshow": {
     "slide_type": "fragment"
    }
   },
   "outputs": [
    {
     "data": {
      "text/plain": [
       "Text(0,0.5,'$1 - \\\\tau\\\\lambda$')"
      ]
     },
     "execution_count": 94,
     "metadata": {},
     "output_type": "execute_result"
    },
    {
     "data": {
      "image/png": "[encoded data removed]",
      "text/plain": [
       "<matplotlib.figure.Figure at 0xfcefc18>"
      ]
     },
     "metadata": {},
     "output_type": "display_data"
    }
   ],
   "source": [
    "xx = np.linspace(0,1.25,200)\n",
    "l = np.array([2, 1.5, 1.0])\n",
    "plt.figure(figsize=(6,6))\n",
    "plt.plot(xx, np.abs(1 - xx * l[0]), 'r-', label = r'$\\lambda_{max}$')\n",
    "plt.plot(xx, np.abs(1 - xx * l[1]), 'k--')\n",
    "plt.plot(xx, np.abs(1 - xx * l[2]), 'g-', label = r'$\\lambda_{min}$')\n",
    "plt.plot(xx, np.ones(200), 'k-', lw = 1)\n",
    "plt.plot((2/3,1), (1/3, 1), 'ko', ms=10 )\n",
    "plt.xlim(0,1.2)\n",
    "plt.legend()\n",
    "plt.xlabel(r'$\\tau$')\n",
    "plt.ylabel(r'$1 - \\tau\\lambda$', rotation = 0, labelpad = 40)"
   ]
  },
  {
   "cell_type": "markdown",
   "metadata": {
    "slideshow": {
     "slide_type": "slide"
    }
   },
   "source": [
    "## Метод простой итерации, оптимальный параметр\n",
    "* Оптимальное значение:\n",
    "$$\n",
    "\\begin{align}\n",
    "& \\tau_{opt} = \\frac{2}{\\lambda_{min} + \\lambda_{max}} \\Rightarrow \\\\\n",
    "& \\Vert B \\Vert_2 = q_{opt} = \\frac{\\lambda_{max} - \\lambda_{min}}{\\lambda_{max} + \\lambda_{min}} = \\frac{\\lambda_{max}/\\lambda_{min} - 1}{\\lambda_{max}/\\lambda_{min} + 1} = \\frac{cond_2(A) -1}{cond_2(A) + 1}\n",
    "\\end{align}\n",
    "$$\n",
    "* **Скорость сходимость зависит от числа обусловленности**"
   ]
  },
  {
   "cell_type": "markdown",
   "metadata": {
    "slideshow": {
     "slide_type": "slide"
    }
   },
   "source": [
    "## Метод простой итерации, чебышёвские параметры\n",
    "* Простая идея обобщения: менять параметр от итерации к итерации\n",
    "* Как будет меняться ошибка:\n",
    "$$\n",
    "e^{(k+1)} = (I - \\tau_k A) (I - \\tau_{k-1} A ) \\ldots (I - \\tau_0 A) e^{(0)} = p(A) e^{(0)}\n",
    "$$\n",
    "$p$ - полином со свойством $p(0) = 1$\n",
    "* Для минимизации ошибки после $n$ шагов нужно подобрать многочлен $p$ так, чтобы $\\Vert p(A)\\Vert_2 \\to \\min$\n",
    "* Для нормальной матрицы $A = A^T > 0$:\n",
    "$$\n",
    "\\Vert p(A)\\Vert_2 = \\Vert U p(\\Lambda) U^*\\Vert_2= \\Vert p(\\Lambda) \\Vert_2 = \\max_k \\vert p(\\lambda_k) \\vert \\le \\max_{\\lambda_{min} \\le \\lambda \\le \\lambda_{max}} \\vert p(\\lambda) \\vert\n",
    "$$\n",
    "* В итоге нужно найти многочлен степени  $n$ $p: p(0) = 1$ и $\\max_{\\lambda_{min} \\le \\lambda \\le \\lambda_{max}} \\vert p(\\lambda) \\vert$ минимален среди всех таких многочленов:\n",
    "$$\n",
    "p = \\arg \\min_{p \\in \\mathcal{P}^n, \\; p(0) =1} \\left( \\max_{[\\lambda_{min}, \\lambda_{max}]}  \\vert p(\\lambda) \\vert\\right)\n",
    "$$"
   ]
  },
  {
   "cell_type": "markdown",
   "metadata": {
    "slideshow": {
     "slide_type": "slide"
    }
   },
   "source": [
    "## Метод простой итерации, чебышёвские параметры, многочлены Чебышёва\n",
    "\n",
    "* Точное решение этой задачи - многочлены Чебышёва. Эти многочлены являются *наименее уклоняющимися от нуля на $[-1,1]$*\n",
    "\n",
    "\n",
    "1. $T_n(x) = \\cos(n \\; \\arccos x)$\n",
    "2. Реккурентное соотношение: $T_n = 2xT_{n-1} - T_{n-1},\\; T_0(x) = 1, \\; T_1(x) = x$\n",
    "3. $\\vert T_n(x) \\vert \\le 1, \\; x \\in [-1,1]$, старший коэффициент $2^{n-1}$\n",
    "3. $T_n$ имеет $n+1$ *точек альтернанса*: в них многочлен принимает значения $\\pm 1$, причем знаки чередуются\n",
    "3. $T_n$ имеет $n$ различных действительных корней:\n",
    "$$\n",
    "x_k = \\cos \\frac{\\pi (2k+1)}{2n}, k = 1, \\ldots, n-1\n",
    "$$\n"
   ]
  },
  {
   "cell_type": "code",
   "execution_count": 95,
   "metadata": {
    "slideshow": {
     "slide_type": "slide"
    }
   },
   "outputs": [
    {
     "data": {
      "text/plain": [
       "Text(0.5,1,'Interval $x\\\\in[-1.1, 1.1]$')"
      ]
     },
     "execution_count": 95,
     "metadata": {},
     "output_type": "execute_result"
    },
    {
     "data": {
      "image/png": "[encoded data removed]",
      "text/plain": [
       "<matplotlib.figure.Figure at 0xfa599e8>"
      ]
     },
     "metadata": {},
     "output_type": "display_data"
    }
   ],
   "source": [
    "import numpy as np\n",
    "import matplotlib.pyplot as plt\n",
    "%matplotlib inline\n",
    "x1 = np.linspace(-1, 1, 128)\n",
    "x2 = np.linspace(-1.1, 1.1, 128)\n",
    "p = np.polynomial.Chebyshev((0, 0, 0, 0, 0, 0, 0, 0, 0, 1), (-1, 1)) \n",
    "fig, (ax1, ax2) = plt.subplots(1, 2, figsize = (10,5))\n",
    "ax1.plot(x1, p(x1))\n",
    "ax1.set_title('Interval $x\\in[-1, 1]$')\n",
    "ax2.plot(x2, p(x2))\n",
    "ax2.set_title('Interval $x\\in[-1.1, 1.1]$')"
   ]
  },
  {
   "cell_type": "markdown",
   "metadata": {
    "slideshow": {
     "slide_type": "slide"
    }
   },
   "source": [
    "## Метод простой итерации, чебышёвские параметры\n",
    "\n",
    "* $p(x) = (1 - \\tau_k x) \\ldots (1 - \\tau_0 x )$ , т.е. $1/\\tau_k$ - корни многочлена.\n",
    "* Сделаем замену переменных\n",
    "$$\n",
    "x(\\lambda) = -1 + 2 \\frac{\\lambda - \\lambda_{min}}{\\lambda_{max} - \\lambda_{min}}\n",
    "$$\n",
    "* Тогда оптимальный набор параметров:\n",
    "$$\n",
    "\\tau_i = \\frac{2}{ \\lambda_{max} + \\lambda_{min} - (\\lambda_{max} - \\lambda_{min})x_i}, \\; x_i = \\cos \\frac{\\pi(2i+1)}{2n}, \\; i = 1, \\ldots, n\n",
    "$$\n",
    "* Скорость сходимости:\n",
    "$$\n",
    "e^{(k)} \\le C q^k e^{(0)}, \\; q = \\frac{\\sqrt{cond(A)} - 1}{\\sqrt{cond(A) + 1}}\n",
    "$$"
   ]
  },
  {
   "cell_type": "markdown",
   "metadata": {
    "slideshow": {
     "slide_type": "slide"
    }
   },
   "source": [
    "## Квадратичные функционалы и линейные системы\n",
    "\n",
    "* Рассмотрим фукнционал $f(x) = \\frac{1}{2} (Ax, x) - (b,x) = \\frac{1}{2} x^T A x - x^T b$\n",
    "* Градиент и матрица вторых производных (гессиан)\n",
    "$$\\nabla f(x) = Ax - b, \\quad \\nabla^2 f = \\frac{\\partial^2 f} {\\partial x_i \\partial x_j} = A$$\n",
    "* Если $A = A^T >0$, то функционал имеет единственный минимум $z: Az = b$ $\\Rightarrow$\n",
    "* Решение СЛАУ можно свести к задаче минимазации функционала. Очевидная идея - градиентный спуск:\n",
    "$$\n",
    "x_{k+1} = x_k - \\tau \\nabla f(x_k) = x_k - \\tau (A x_k - b) \n",
    "$$\n",
    "это в точности метод простой итерации"
   ]
  },
  {
   "cell_type": "markdown",
   "metadata": {
    "slideshow": {
     "slide_type": "slide"
    }
   },
   "source": [
    "## Методы Якоби и Зейделя\n",
    "\n",
    "* Общий подход для построения итерационного метода: представим матрицу $A$ в виде $A = M - N$, где $M$ - обратимая и легко обращается (можно быстро решить систему с такой матрицей), тогда \n",
    "$$\n",
    "x = M^{-1}(N x + b) \\Rightarrow x^{(k+1)} = M^{-1}(N x^{(k)} + b)\n",
    "$$\n",
    "* Примеры матриц, которые легко обращаются:\n",
    "    * Диагональные\n",
    "    * Треугольные\n"
   ]
  },
  {
   "cell_type": "markdown",
   "metadata": {
    "slideshow": {
     "slide_type": "fragment"
    }
   },
   "source": [
    "* Рассмотрим представление $A = L + D + U$, $L$ - строго нижнетреугольная часть, $D$ - диагональная часть, $U$ - строго верхнетреугольная часть.\n",
    "    1. Метод Якоби $x^{(k+1)} = D^{-1} ( -(L+ U) x^{(k)} + b)$  \n",
    "    Достаточное условие сходимости: строчное диагональное преобладание (тогда $\\Vert D^{-1}(L + U) \\Vert_\\infty < 1$)\n",
    "    2. Метод Зейделя: $x^{(k+1)} = (L + D)^{-1} ( -U x^{(k)} + b)$  \n",
    "    Достаточное условие сходимости: $A = A^T > 0$\n",
    "* Эти методы редко используются в \"чистом виде\", но часто являются составными частями более сложных методов"
   ]
  },
  {
   "cell_type": "markdown",
   "metadata": {
    "slideshow": {
     "slide_type": "slide"
    }
   },
   "source": [
    "## Вычисление собственных чисел и собственных векторов матрицы\n",
    "\n",
    "Степенной метод:  \n",
    "* Пусть $A$ имеет базис из нормированных с.в. $z_i, \\; A z_i = \\lambda_i z_i, \\Vert z_i \\Vert = 1$ и $$\\vert \\lambda_1\\vert > \\vert \\lambda_2 \\vert \\ldots > \\vert \\lambda_n \\vert$$\n",
    "\n"
   ]
  },
  {
   "cell_type": "markdown",
   "metadata": {
    "slideshow": {
     "slide_type": "fragment"
    }
   },
   "source": [
    "* Возьмем $y_0 = c_1 z_1 + \\ldots c_n z_n \\Rightarrow$\n",
    "$$y_k = A^k y_0 = c_1 \\lambda_1^k z_1 + \\ldots + c_n \\lambda_n^k z_n = c_1 \\lambda_1^k \\left(z_1 + \\mathcal{O}\\left(\\bigg\\vert\\frac{ \\lambda_2}{\\lambda_1}\\bigg\\vert^k\\right)\\right)$$"
   ]
  },
  {
   "cell_type": "markdown",
   "metadata": {
    "slideshow": {
     "slide_type": "fragment"
    }
   },
   "source": [
    "* тогда \n",
    "$$\\frac{y_k^* A y_k}{\\Vert y_k \\Vert^2} = \\frac{(c_1 \\lambda_1^k z_1^*)\\lambda_1 (c_1 \\lambda_1^k z_1) }{(c_1 \\lambda_1^k)^2} + \\mathcal{O}\\left(\\bigg\\vert\\frac{ \\lambda_2}{\\lambda_1}\\bigg\\vert^k\\right) \\to \\lambda_1 $$"
   ]
  },
  {
   "cell_type": "markdown",
   "metadata": {
    "slideshow": {
     "slide_type": "slide"
    }
   },
   "source": [
    "## Алгоритм степенного метода\n",
    "* Добавляем нормировки на каждом шаге:\n",
    "    1. Начальное приближение $y_0$. $x_0 = y_0 /\\Vert y_0 \\Vert$\n",
    "    2. $y_k = A x_{k-1}, \\; x_k = y_k/\\Vert y_k \\Vert, \\quad k = 1,2, \\ldots$\n",
    "    3. $x^*_k A x_k \\to \\lambda_1$\n",
    "\n",
    "\n",
    "\n",
    "* Наиболее популярный метод вычисления с. ч. основан на $QR$-разложении"
   ]
  }
 ],
 "metadata": {
  "anaconda-cloud": {},
  "celltoolbar": "Slideshow",
  "kernelspec": {
   "display_name": "Python 3",
   "language": "python",
   "name": "python3"
  },
  "language_info": {
   "codemirror_mode": {
    "name": "ipython",
    "version": 3
   },
   "file_extension": ".py",
   "mimetype": "text/x-python",
   "name": "python",
   "nbconvert_exporter": "python",
   "pygments_lexer": "ipython3",
   "version": "3.6.4"
  },
  "livereveal": {
   "start_slideshow_at": "selected",
   "theme": "white",
   "transition": "zoom"
  }
 },
 "nbformat": 4,
 "nbformat_minor": 2
}
