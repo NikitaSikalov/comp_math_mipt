{
 "cells": [
  {
   "cell_type": "markdown",
   "metadata": {
    "slideshow": {
     "slide_type": "slide"
    }
   },
   "source": [
    "# Вычислительная математика\n",
    "\n",
    "## МФТИ, 2018\n",
    "\n",
    "\n",
    "## Лекция 3. \n",
    "\n",
    "## Прямые методы решения линейных систем уравнений.\n",
    "\n",
    "1. $LU$-разложение и метод Гаусса\n",
    "2. метод Холецкого\n",
    "3. $QR$-разложение\n",
    "4. Метод наименьших квадратов"
   ]
  },
  {
   "cell_type": "markdown",
   "metadata": {
    "slideshow": {
     "slide_type": "slide"
    }
   },
   "source": [
    "## Прошлая лекция\n",
    "\n",
    "Классы матриц:\n",
    "* Унитарные: $U^* U = I\\quad (U^T U = I)$ - столбцы ортонормированные, сохраняют 2-норму: $||Ux||_2 = ||x||_2$\n",
    "* Эрмитовы: $H^* = H\\quad (H^T = H)$\n",
    "* Нормальные $A^* A = A A^*$ - имеют ортонормированный базис из собственных векторов:\n",
    "$$\\boxed{A = U \\Lambda U^*}$$\n",
    "* Эрмитовы и унитарные матрицы являются нормальными\n",
    "* Знакоопределенные матрицы: $\\forall x \\ne 0 \\; (Ax,x) > (\\ge) \\; 0$\n",
    "\n",
    "\n",
    "* Разложение Шура - для любой матрицы $n \\times n$:\n",
    "$$\\boxed{A = U T U^*}$$\n",
    "$$\n",
    "T  = \\left[\n",
    "    \\begin{array}{cccc}\n",
    "        \\lambda_1 & \\times & \\ldots & \\times \\\\\n",
    "        0 & \\lambda_2& \\times&\\times \\\\\n",
    "        \\ldots& \\ldots & \\ddots &\\ldots \\\\\n",
    "        0 & \\ldots & 0 & \\lambda_n \n",
    "    \\end{array}\\right]\n",
    "$$\n"
   ]
  },
  {
   "cell_type": "markdown",
   "metadata": {
    "slideshow": {
     "slide_type": "slide"
    }
   },
   "source": [
    "## LU разложение\n",
    "1. Линейную систему можно решать с помощью исключения неизвестных\n",
    "$$\n",
    "+ \\begin{cases}\n",
    "\\times -\\frac{a_{21}}{a_{22}} \\\\\n",
    "\\;\n",
    "\\end{cases}\n",
    "\\left[\n",
    "\\begin{array}{ccc}\n",
    "a_{11} & a_{12} & \\ldots \\\\\n",
    "\\hline\n",
    "a_{21} & a_{22} & \\ldots\n",
    "\\end{array}\n",
    "\\right]\n",
    "$$\n",
    "* Один шаг исключения можно представить как умножение слева на нижнетреугольную матрицу $L_1$\n",
    "$$\n",
    "\\left[\n",
    "\\begin{array}{cccc}\n",
    "1 & 0 & \\ldots & 0  \\\\\n",
    "-\\frac{a_{21}}{a_{11}} & 1 & 0 & \\ldots \\\\\n",
    "& &\\ddots & &  \n",
    "\\end{array}\n",
    "\\right]\n",
    "\\times [A]\n",
    "$$\n",
    "* В результате получим верхнетреугольную матрицу\n",
    "$$\n",
    "\\ldots L_2 \\times L_1 \\times A = U \\Leftrightarrow \\boxed{A = L U}\n",
    "$$\n",
    "* Мы могли столкнуться с делением на 0!"
   ]
  },
  {
   "cell_type": "markdown",
   "metadata": {
    "slideshow": {
     "slide_type": "slide"
    }
   },
   "source": [
    "## LU разложение\n",
    "\n",
    "* Матрица называется *строго регулярной*, если все её ведущие подматрицы невырожденные.\n",
    "* **Теорема:** Для того, чтобы $A$ имела $LU$-разложение необходимо и достаточно, чтобы она была строго регулярной.\n",
    "    1. ($\\Rightarrow$) Если $A = LU$ то все ведущие подматрицы равны произведению невырожденных подматриц матриц $L$ и $U$\n",
    "    2. ($\\Leftarrow$) По индукции. Пусть верно для $n-1$. Запишем $A$ в виде:\n",
    "    $$\n",
    "    A = \\left[\n",
    "    \\begin{array}{cc}\n",
    "    a & c^T \\\\\n",
    "    b & D\n",
    "    \\end{array}\n",
    "    \\right]\n",
    "    $$\n",
    "    3. Тогда \n",
    "    $$\n",
    "    \\left[\\begin{array}{cc}\n",
    "    1 & 0^T \\\\\n",
    "    -b/a & I \n",
    "    \\end{array}\\right]\n",
    "    \\left[\\begin{array}{cc}\n",
    "    a & c^T \\\\\n",
    "    b & D\n",
    "    \\end{array}\\right] = \n",
    "    \\left[\\begin{array}{cc}\n",
    "    a & c^T \\\\\n",
    "    0 & A_1\n",
    "    \\end{array}\\right], \\quad A_1 = D - \\frac{1}{a} b c^T\n",
    "    $$\n",
    "    4. Т.к. все ведущие определители $A$ равны $a$ $\\times$ ведущие определители $A_1$, то $A_1$ - тоже строго регулярная $\\Rightarrow$ $A_1 = L_1 U_1$\n",
    "    5. Составим $L$ и $U$\n",
    "    $$\n",
    "    L = \\left[\\begin{array}{cc} \n",
    "    1 & 0 \\\\ \n",
    "    b/a & L_1\n",
    "    \\end{array}\\right], \\quad \n",
    "    U = \\left[\\begin{array}{cc}\n",
    "    a & c^T \\\\\n",
    "    0 & U_1\n",
    "    \\end{array} \\right] \\Rightarrow \\quad\n",
    "    LU = \\left[\\begin{array}{cc}\n",
    "    a & c^T \\\\\n",
    "    b & L_1 U_1 + \\frac{1}{a} b c^T\n",
    "    \\end{array}\\right] = \n",
    "    \\left[\\begin{array}{cc}\n",
    "    a & c^T \\\\\n",
    "    b & D\n",
    "    \\end{array}\\right] = A\n",
    "    $$\n",
    "    "
   ]
  },
  {
   "cell_type": "markdown",
   "metadata": {
    "slideshow": {
     "slide_type": "slide"
    }
   },
   "source": [
    "## LU разложение. Следствия\n",
    "\n",
    "1. $LU$-разложение определяется однозначно. Если $L_1 U_1 = L_2 U_2$, то $L_2^{-1} L_1 = U_2^{-1} = D$ - верхнетреугольная матрица равна нижнетреугольной $\\Rightarrow$ $D$ - диагональная и $D = I$, т.е. $L_1 = L_2$, $U_1 = U_2$\n",
    "2. Все ведущие миноры $A$ положительны $\\Leftrightarrow$ все диагональные элементы $U$ $>0$\n",
    "2. Если $A = A^*$, то $A = L DL^*$, $L$ - нижняя унитреугольная, $D$ - диагональная\n",
    "3. Если $A \\in \\mathbb{C}^{n \\times n}$ имеет положительные ведущие миноры ($A >0$), то существует *разложение Холецкого*:\n",
    "$$A = C C^*$$\n",
    "$C$ - нижнетреугольная с положительной главной диагональю\n"
   ]
  },
  {
   "cell_type": "markdown",
   "metadata": {
    "slideshow": {
     "slide_type": "slide"
    }
   },
   "source": [
    "## LU разложение и ошибки округления\n",
    "\n",
    "* **Теорема:** Для вычисленных по алгоритму Гаусса \"машинных\" $\\tilde{L}$, $\\tilde{U}$ выполняется неравенство (при условии, что не возникал машинный нуль):\n",
    "$$\\big\\vert \\tilde{L}\\tilde{U} - A \\big\\vert \\le 3 n \\epsilon \\left( \\big\\vert A \\big\\vert + \\big\\vert\\tilde{L}\\big\\vert \\big\\vert \\tilde{U}\\big\\vert\\right) + \\mathcal{O}(\\epsilon^2)$$\n",
    "$\\epsilon$ - машинное эпсилон\n",
    "\n",
    "* Плохой пример $t$ - длина мантиссы, $p$ - основание машинной арифметики ($p=2$)\n",
    "\n",
    "$$\n",
    "A = \n",
    "\\left[\n",
    "\\begin{array}{cc}\n",
    "p^{-t} & 1. \\\\ \n",
    "1. & 1. \n",
    "\\end{array}\n",
    "\\right]\n",
    "$$\n",
    "\n",
    "Тогда \n",
    "$$\n",
    "\\tilde{L} = \n",
    "\\left[\n",
    "\\begin{array}{cc}\n",
    "1. & 0 \\\\ \n",
    "p^t & 1. \n",
    "\\end{array}\n",
    "\\right]\n",
    "\\quad \n",
    "\\tilde{U} = \n",
    "\\left[\n",
    "\\begin{array}{cc}\n",
    "p^{-t} & 1. \\\\ \n",
    "0 & p^t \n",
    "\\end{array}\n",
    "\\right] \\Rightarrow \\quad\n",
    "\\tilde{L} \\tilde{U} - A = \\left[\\begin{array}{cc}\n",
    "0 & 0 \\\\\n",
    "0 & 1.\n",
    "\\end{array}\\right]\n",
    "$$\n",
    "* Причина большой ошибки: малая величина ведущего элемента $a$, на который мы делим\n",
    "* Решение: на каждом шаге выбирать *ведущий элемент*: максимальный по модулю элемент в столбце/строке/матрице\n",
    "* В случае выбора по столбцу мы переставляем строки $A$, поэтому\n",
    "$$\n",
    "PA = LU \\Leftrightarrow A = LUP^T\n",
    "$$, "
   ]
  },
  {
   "cell_type": "markdown",
   "metadata": {
    "slideshow": {
     "slide_type": "slide"
    }
   },
   "source": [
    "## Метод Холецкого\n",
    "* Метод Холецкого основан на разложении $A = CC^T$  для $A = A^T >0$\n",
    "* Для $n = 3$:\n",
    "$$\n",
    "\\left[\\begin{array}{ccc}\n",
    "a_{11} & a_{21} & a_{31} \\\\\n",
    "a_{21} & a_{22} & a_{23} \\\\\n",
    "a_{31} & a_{32} & a_{33}\n",
    "\\end{array}\\right] = \n",
    "\\left[\\begin{array}{ccc}\n",
    "c_{11} & 0 & 0 \\\\\n",
    "c_{21} & c_{22} & 0 \\\\\n",
    "c_{31} & c_{32} & c_{33}\n",
    "\\end{array}\\right] \\;\n",
    "\\left[\\begin{array}{ccc}\n",
    "c_{11} & c_{21} & c_{31} \\\\\n",
    "0 & c_{22} & c_{21} \\\\\n",
    "0& 0 & c_{33}\n",
    "\\end{array}\\right] \\\n",
    "$$\n",
    "Последовательно будет вычислять элементы $C$:\n",
    "$$\n",
    "\\begin{array}{lll}\n",
    "c_{11} = \\sqrt{a_{11}} & c_{21} = a_{21} / c_{11} & c_{31} = a_{31}/c_{11} \\\\\n",
    "c_{22} = \\sqrt{a_{22} - c^2_{21}} & c_{32} = (a_{32} - c_{31} c_{21})/c_{22} & \\\\\n",
    "c_{33} = \\sqrt{a_{33} - c_{31}^2 - c_{32}^2}\n",
    "\\end{array}\n",
    "$$\n",
    "* В методе Холецкого нет роста элементов:\n",
    "$$\n",
    "\\lvert \\tilde{C}\\tilde{C}^T - A\\rvert \\le \\epsilon (n+1) \\max_{i,j} \\sqrt{a_{ii} a_{jj}} + \\mathcal{\\epsilon^2}\n",
    "$$"
   ]
  },
  {
   "cell_type": "markdown",
   "metadata": {
    "slideshow": {
     "slide_type": "slide"
    }
   },
   "source": [
    "## Решение систем с треугольными матрицами\n",
    "* Решение системы $Ax = b$ с помощью $LU$ (или $CC^T$) разложения можно разбить на 3 шага:\n",
    "    1. Вычисление разложения $A = LU$ - $\\mathcal{O}(n^3)$. $Ax = b \\Rightarrow L(Ux) = b$\n",
    "    2. Решение системы $Ly = b$ (прямая подстановка) - $\\mathcal{O}(n^2)$\n",
    "    3. Решение системы $Ux = y$ (обратная подстановка) - $\\mathcal{O}(n^2)$\n",
    "* Если нужно решать систему с одной $A$ и разными правыми частями, то нужно вычислить $LU$ разложение только 1 раз!"
   ]
  },
  {
   "cell_type": "code",
   "execution_count": 18,
   "metadata": {
    "slideshow": {
     "slide_type": "fragment"
    }
   },
   "outputs": [
    {
     "name": "stdout",
     "output_type": "stream",
     "text": [
      "1.7865717473905534\n"
     ]
    }
   ],
   "source": [
    "import numpy as np\n",
    "import time\n",
    "n = 5000\n",
    "A = np.random.rand(n,n)\n",
    "b = np.random.rand(n)\n",
    "t0 = time.clock()\n",
    "x = np.linalg.solve(A,b)\n",
    "print(time.clock()-t0)"
   ]
  },
  {
   "cell_type": "markdown",
   "metadata": {
    "slideshow": {
     "slide_type": "slide"
    }
   },
   "source": [
    "## QR-разложение\n",
    "\n",
    "* Пусть $A \\in \\mathbb{C}^{m \\times n}, \\, m \\ge n$, $A = [a_1|a_2|\\ldots|a_n]$. Один из путей к $QR$ разложению - вычисление ортонормированного базиса в пространстве стобцов $A$\n",
    "    1. $q_1 \\equiv a_1/\\Vert a_1\\Vert_2$\n",
    "    2. Вычитаем из $a_2$ его проекцую на $q_1$:\n",
    "        * $q_2 = a_2 - (a_2,q_1)q_1$\n",
    "        * $q_2 = q_2/\\Vert q_2\\Vert_2$ (нормировка)\n",
    "        * $\\ldots$ \n",
    "* В результате получим, что $k$-й столбец $A$ есть линейная комбинация $q_1, \\ldots, q_k$. В матричном виде:\n",
    "$$\n",
    "A = \n",
    "\\left[\n",
    "\\begin{array}{c|c|c|c}\n",
    "\\; & \\;& \\;&\\; \\\\\n",
    "a_1 & a_2 & \\ldots & a_n \\\\\n",
    " & & &  \n",
    "\\end{array}\\right] = \n",
    "\\left[\n",
    "\\begin{array}{c|c|c|c}\n",
    "\\; & \\;& \\;&\\; \\\\\n",
    "q_1 & q_2 & \\ldots & q_n \\\\\n",
    " & & &  \n",
    "\\end{array}\\right] \\left[\n",
    "\\begin{array}{ccc}\n",
    "r_{11} & \\ldots & \\times \\\\\n",
    "0  & \\ddots & \\times \\\\\n",
    "0 & \\ldots & r_{nn}\n",
    "\\end{array}\n",
    "\\right] = QR\n",
    "$$\n",
    "Q унитарная матрица $m\\times n$, $R$ - верхнетреугольная $n\\times n$"
   ]
  },
  {
   "cell_type": "markdown",
   "metadata": {
    "slideshow": {
     "slide_type": "slide"
    }
   },
   "source": [
    "## Вычисление QR разложения с помощью вращений\n",
    "* Матрица $H = H(u) = I - 2 u u^*$, где $\\Vert u\\Vert_2=1$ называется *матрицей отражения* или матрицей Хаусхолдера\n",
    "    * $H$ - унитарная\n",
    "    * $H$ - эрмитова\n",
    "    * $H u = u - 2 u (u^* u) = u - 2u = -u$ (отражение)\n",
    "    * $\\forall v \\perp u$: $Hv = v$\n",
    "    * **$H$ выполняет отражение относительно плоскости с нормалью $u$**\n",
    "* Лемма: $\\forall a, b \\in \\mathbb{C}^n$, $\\Vert a\\Vert_2 = \\Vert b\\Vert_2$ $\\exists \\gamma \\in \\mathbb{C}$ и матрица отражений $H$:"
   ]
  },
  {
   "cell_type": "markdown",
   "metadata": {
    "slideshow": {
     "slide_type": "fragment"
    }
   },
   "source": [
    "* Доказательство\n",
    "$$\n",
    "Ha = \\gamma b, \\vert \\gamma \\vert = 1\n",
    "$$\n",
    "    * $H = H(u)$: $a - 2 (u^*a)u = \\gamma b$\n",
    "    * Если $a$,$b$ - коллинеарны, возьмем $u = a/\\Vert a\\Vert_2$, иначе\n",
    "    $$\n",
    "    u = \\frac{a -\\gamma b}{\\Vert a - \\gamma b\\Vert_2}\n",
    "    $$\n",
    "    * Тогда $2(u^*a) = \\Vert a- \\gamma b \\Vert_2$ $\\Leftrightarrow$\n",
    "    $$\n",
    "    2(a^*a - \\gamma* b^* a) = \\Vert a -\\gamma b \\Vert^2_2 = \\Vert a \\Vert_2^2 + \\Vert b \\Vert_2^2 - 2 Re(\\gamma^* b^* a)\n",
    "    $$\n",
    "    * $\\Vert a \\Vert_2 = \\Vert b\\Vert_2 \\Rightarrow$ $\\gamma^* b^* a = Re(\\gamma^* b^* a) \\Rightarrow \\gamma^* b^* a \\in \\mathbb{R}$. Если $b^*a = 0$, то возьмем любое $\\gamma$, иначе: $\\gamma = \\pm b^*a /\\vert b^*a\\vert$"
   ]
  },
  {
   "cell_type": "markdown",
   "metadata": {
    "slideshow": {
     "slide_type": "slide"
    }
   },
   "source": [
    "## Решение линейной системы с помощью QR разложения\n",
    "\n",
    "* Можно решить систему $A x = b$ в 3 шага:\n",
    "    1. Вычислить разложение $A = Q R$\n",
    "\n",
    "    2. Вычислить $y = Q^* b$ - правую часть системы $Rx = y$\n",
    "\n",
    "    3. Решить систему $Rx = y$ с треугольной матрицей ($\\mathcal{O}(n^2)$)\n",
    "\n",
    "* Такой алгоритм требует в 2 раза больше вычислений, чем метод Гаусса (LU)"
   ]
  },
  {
   "cell_type": "markdown",
   "metadata": {
    "slideshow": {
     "slide_type": "slide"
    }
   },
   "source": [
    "## Переопределенные системы - МНК\n",
    "\n",
    "1. Многие прикладные задачи приводят к *переопределенным* линейным системам: $A x = b$, $A \\in \\mathbb{C}^{m\\times n}$, $m > n$\n",
    "2. В общем случае система не имеет решения. Решение есть, если $b$ лежит в линейной оболочке столбцов $A$.\n",
    "3. Естественное обобщение - попытаться минимизировать норму невязки: $\\Vert r \\Vert = \\Vert Ax - b \\Vert$\n",
    "4. В $2$-норме получается простое решение, это можно объяснить по-разному:\n",
    "    1. $\\Vert Ax - b \\Vert_2^2$ - квадратичный функционал, поэтому условие оптимальности (градиент равен нулю) приводит к линейным уравнениям:\n",
    "    $$\n",
    "    0 = \\nabla \\Vert A x - b \\Vert)_2^2 = 2 (A^*A x - A^* b) = 0\n",
    "    $$\n",
    "    2. Задачу можно интерпретировать так: $A x$ - это все векторы линейной оболочки столбцов $A$. Мы хотим найти ближайший вектор в этом подпространстве размерности $n$ к вектору $f$ из подпространства размерности $m$.  \n",
    "    Т.к. 2-норма порождается скалярным произведением, решение получается *ортогональной проекцией* $f$ на $span\\{a_1, ...,a_n\\}$.  \n",
    "    Следовательно: $f = Ax + v$, где $v \\perp span\\{a_1,\\ldots,a_n\\}$ и $A^* f = A^*Ax + 0$\n",
    "5. В итоге, $x = (A^* A)^{-1}f$"
   ]
  },
  {
   "cell_type": "markdown",
   "metadata": {
    "slideshow": {
     "slide_type": "slide"
    }
   },
   "source": [
    "## Решение переопределенных систем с помощью QR разложения\n",
    "\n",
    "* $x = (A^* A)^{-1} A^* b = (R^* Q^* Q R)^{-1} R^* Q^* b = (R^* R)^{-1} R^* Q^* b = R^{-1} (R^*)^{-1} R^* Q^* b = R^{-1} Q b $\n",
    "* $Rx = Q^*b$\n",
    "\n",
    "Такой способ менее чувствителен к ошибкам округления, чем решение системы с матрицей $A^* A$"
   ]
  },
  {
   "cell_type": "code",
   "execution_count": null,
   "metadata": {},
   "outputs": [],
   "source": []
  }
 ],
 "metadata": {
  "anaconda-cloud": {},
  "celltoolbar": "Slideshow",
  "kernelspec": {
   "display_name": "Python 3",
   "language": "python",
   "name": "python3"
  },
  "language_info": {
   "codemirror_mode": {
    "name": "ipython",
    "version": 3
   },
   "file_extension": ".py",
   "mimetype": "text/x-python",
   "name": "python",
   "nbconvert_exporter": "python",
   "pygments_lexer": "ipython3",
   "version": "3.6.4"
  },
  "livereveal": {
   "start_slideshow_at": "selected",
   "theme": "white",
   "transition": "zoom"
  }
 },
 "nbformat": 4,
 "nbformat_minor": 2
}
