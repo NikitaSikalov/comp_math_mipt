{
 "cells": [
  {
   "cell_type": "markdown",
   "metadata": {
    "slideshow": {
     "slide_type": "slide"
    }
   },
   "source": [
    "## Прямые методы решения линейных систем\n",
    "\n",
    "1. Метод Гаусса: как вычисляются элементы матриц $L$ и $U$? Продейлайте LU разложение для системы $3 \\times 3$, и получите общую формулу для элементов матриц $L$ и $U$.\n",
    "\n",
    "2. Докажите, что для матрицы $A = A^T >0$, LU разложение сводится к разложению Холецкого $A = C C^T$\n",
    "\n",
    "3. Выбор ведущего элемента ($t$ - длина мантиссы):\n",
    "$$\n",
    "A = \n",
    "\\left[\n",
    "\\begin{array}{cc}\n",
    "2^{-t} & 1. \\\\ \n",
    "1. & 1. \n",
    "\\end{array}\n",
    "\\right]\n",
    "$$"
   ]
  },
  {
   "cell_type": "code",
   "execution_count": 80,
   "metadata": {
    "slideshow": {
     "slide_type": "slide"
    }
   },
   "outputs": [
    {
     "name": "stdout",
     "output_type": "stream",
     "text": [
      "Time = 0.00000e+00\n",
      "[0 2 2]\n",
      "[[ 0.66879486  0.81922681  0.13114802]\n",
      " [ 0.69260553  0.17376471  0.44945067]\n",
      " [ 0.68639175 -0.39354058  0.90188135]]\n"
     ]
    },
    {
     "data": {
      "text/plain": [
       "[<matplotlib.lines.Line2D at 0xad0b160>]"
      ]
     },
     "execution_count": 80,
     "metadata": {},
     "output_type": "execute_result"
    },
    {
     "data": {
      "image/png": "[encoded data removed]",
      "text/plain": [
       "<matplotlib.figure.Figure at 0xac114a8>"
      ]
     },
     "metadata": {},
     "output_type": "display_data"
    }
   ],
   "source": [
    "%matplotlib inline\n",
    "from matplotlib import pyplot as plt\n",
    "import numpy as np\n",
    "import scipy.linalg as la\n",
    "import time\n",
    "\n",
    "n = 3\n",
    "A = np.random.rand(n,n)\n",
    "b = np.random.rand(n)\n",
    "x_ex = np.linalg.solve(A,b)\n",
    "\n",
    "# ?la.lu_factor\n",
    "# ?scipy.linalg.lu_solve\n",
    "t1 = time.time()\n",
    "LU, piv = la.lu_factor(A)\n",
    "t2 = time.time()\n",
    "print('Time = {:<10.5e}'.format(t2-t1)) # Почему время = 0?\n",
    "print(piv)\n",
    "print(LU)\n",
    "\n",
    "plt.plot(np.arange(10)**2,'ko')\n",
    "plt.plot(np.arange(10)**3,'b-')\n",
    "\n"
   ]
  },
  {
   "cell_type": "code",
   "execution_count": 81,
   "metadata": {
    "slideshow": {
     "slide_type": "slide"
    }
   },
   "outputs": [
    {
     "name": "stdout",
     "output_type": "stream",
     "text": [
      "21.8 µs ± 348 ns per loop (mean ± std. dev. of 7 runs, 10000 loops each)\n"
     ]
    }
   ],
   "source": [
    "%%timeit\n",
    "# Так можно измерить время исполнения данной ячейке\n",
    "LU, piv = la.lu_factor(A)"
   ]
  },
  {
   "cell_type": "markdown",
   "metadata": {
    "slideshow": {
     "slide_type": "slide"
    }
   },
   "source": [
    "## Задачи\n",
    "1. Напишите код для решения линейной системы со случайной матрицей с помощью LU разложения с применением готовых функций.\n",
    "2. Постройте график зависимости времени на решение системы от размера системы (точками). На этом же графике постройте теоретическую зависимость (сплошной линией). \n",
    "3. Постройте такой же график для времени, затрачиваемого на LU разложение\n",
    "4. Напишите свою программу, которая по LU разложению вычисляет решение системы. Возьмите LU разложение из готовой функции, сравните решение с решением из стандартной функции. Сравните время работы вашей функции и стандартной функции."
   ]
  },
  {
   "cell_type": "markdown",
   "metadata": {
    "slideshow": {
     "slide_type": "slide"
    }
   },
   "source": [
    "## QR разложение\n",
    "\n",
    "* Можно ли обобщить QR разложение на непрерывный случай? Что получится, если применить процесс Грамма-Шмидта к многочленам, со скалярным произведением\n",
    "$$\n",
    "(f,g) = \\int_{a}^{b} f(x) g(x) \\; dx\n",
    "$$\n",
    "Проделайте для многочленов до 2-й степени на отрезке $[-1,1]$, начав с $1, x, x^2$\n"
   ]
  },
  {
   "cell_type": "markdown",
   "metadata": {
    "slideshow": {
     "slide_type": "slide"
    }
   },
   "source": [
    "* Рассмотрим задачу интерполяции: мы хотим приблизить неизвестную функцию $f$ многочленом $p$ по значениям функции в точках $y_1 = f(x_1), \\ldots, y_n = f(x_m)$ \n",
    "Обычно, мы рассматриваем многочлен, как линейную комбинацию базовых степенных функций $x^k$ с коэффициентами:\n",
    "$$\n",
    "p(x) = \\sum_{k=0}^{n-1} c_k x^k\n",
    "$$\n",
    "Тогда, задача интерполяции сводится к поиску неизвестных коэффициентов $c_k$. Запишем требование $p(x_i) = y_i$, получим линейную систему с матрицей Вандермонда:\n",
    "$$\n",
    "\\left[\\begin{array}{cccc}\n",
    "1 & x_1 & \\ldots x_1^{n-1} \\\\\n",
    "1 & x_2 & \\ldots x_2^{n-1} \\\\\n",
    " & \\vdots & \\ldots \\vdots \\\\\n",
    "1 & x_m & \\ldots x_m^{n-1} \n",
    "\\end{array}\\right]\n",
    "\\left[\\begin{array}{c}\n",
    "c_0 \\\\\n",
    "\\vdots \\\\\n",
    "c_{n-1}\n",
    "\\end{array}\\right] \\approx\n",
    "\\left[\\begin{array}{c}\n",
    "y_1 \\\\ \n",
    "y_2 \\\\\n",
    "\\vdots \\\\\n",
    "y_m\n",
    "\\end{array}\\right]\n",
    "$$\n",
    "Если $m = n$, то эта система имеет точное решение, при $m >n$ можно применить МНК.  \n",
    "Заметим, что в столбцах матрицы $A$ стоят значения базисных функций (т.е. $x^k$) в точках интерполяции. Если применить QR разложение, то столбцы матрицы $Q$ будут новыми базисными \"функциями\". \n",
    "    * Сделайте $QR$ разложение для матрицы Вандермонда по точкам на отрезке $[-1,1]$, и постройте графики значений в стобце от $x_i$. \n",
    "    * Постройте на том же рисунке график ортогонального многочлена 2-й степени из предыдущего задания."
   ]
  },
  {
   "cell_type": "markdown",
   "metadata": {
    "slideshow": {
     "slide_type": "slide"
    }
   },
   "source": [
    "* Решите задачу интерполяции для какой-либо функции на $[-1,1]$ методом наименьших квадратов (возьмите точек больше чем степень многочлена +1) с помощью qr разложения. Напишите свой цикл для решения системы с треугольной матрицей $R$. Проверьте его правильность, сравнив с решением, полученным функцией **np.linalg.solve**  \n",
    "Нарисуйте график многочлена на отрезке сплошной линией, и символами - значения функции в точках интерполяции "
   ]
  }
 ],
 "metadata": {
  "celltoolbar": "Slideshow",
  "kernelspec": {
   "display_name": "Python 3",
   "language": "python",
   "name": "python3"
  },
  "language_info": {
   "codemirror_mode": {
    "name": "ipython",
    "version": 3
   },
   "file_extension": ".py",
   "mimetype": "text/x-python",
   "name": "python",
   "nbconvert_exporter": "python",
   "pygments_lexer": "ipython3",
   "version": "3.6.4"
  }
 },
 "nbformat": 4,
 "nbformat_minor": 2
}
